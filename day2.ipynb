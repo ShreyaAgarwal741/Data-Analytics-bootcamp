{
 "cells": [
  {
   "cell_type": "code",
   "execution_count": null,
   "id": "e9d8fe64-425d-4ada-8887-e69674bc025a",
   "metadata": {},
   "outputs": [],
   "source": [
    "#1.TYPE CONVERSION                                                                                                   DATE:9-7-2025"
   ]
  },
  {
   "cell_type": "code",
   "execution_count": 1,
   "id": "29ae4e7d-5564-434b-9d87-876ecd6ea8a4",
   "metadata": {},
   "outputs": [
    {
     "name": "stdout",
     "output_type": "stream",
     "text": [
      "<class 'float'>\n"
     ]
    }
   ],
   "source": [
    "#explicit conversion\n",
    "x=10\n",
    "y=float(x)\n",
    "print(type(y))"
   ]
  },
  {
   "cell_type": "code",
   "execution_count": 2,
   "id": "db71dc42-35fe-4f27-bc82-5291f67b4274",
   "metadata": {},
   "outputs": [
    {
     "name": "stdout",
     "output_type": "stream",
     "text": [
      "<class 'float'>\n"
     ]
    }
   ],
   "source": [
    "#implicit conversion\n",
    "x=10\n",
    "y=10.5\n",
    "print(type(x+y))"
   ]
  },
  {
   "cell_type": "code",
   "execution_count": 3,
   "id": "269ee757-e569-4771-b40a-523a6f16f4c5",
   "metadata": {},
   "outputs": [
    {
     "name": "stdin",
     "output_type": "stream",
     "text": [
      "enter qty: 6\n",
      "enter price: 30\n",
      "enter product name: milk\n"
     ]
    },
    {
     "name": "stdout",
     "output_type": "stream",
     "text": [
      " Total bill of: 180.0 milk\n"
     ]
    }
   ],
   "source": [
    "#Q1\n",
    "qty=float(input(\"enter qty:\"))\n",
    "price=int(input(\"enter price:\"))\n",
    "pname=input(\"enter product name:\")\n",
    "bill=price*qty\n",
    "print(\" Total bill of:\",bill,pname)"
   ]
  },
  {
   "cell_type": "code",
   "execution_count": 4,
   "id": "2d6798a7-b788-4c7e-a1be-03933e1a9a4b",
   "metadata": {},
   "outputs": [],
   "source": [
    "#2.control flow statement\n",
    "#if statement\n",
    "a=10\n",
    "if a>15:\n",
    "    print(\"hello\")"
   ]
  },
  {
   "cell_type": "code",
   "execution_count": 5,
   "id": "7108718a-b00c-44c2-a0c7-e7b69ec6f2b7",
   "metadata": {},
   "outputs": [
    {
     "name": "stdout",
     "output_type": "stream",
     "text": [
      "bye\n"
     ]
    }
   ],
   "source": [
    "#else\n",
    "a=10\n",
    "if a>15:\n",
    "    print(\"hello\")\n",
    "else:\n",
    "    print(\"bye\")"
   ]
  },
  {
   "cell_type": "code",
   "execution_count": 6,
   "id": "7edcfda4-03f9-4c89-861c-022ae7819217",
   "metadata": {},
   "outputs": [
    {
     "name": "stdin",
     "output_type": "stream",
     "text": [
      "enter a number 7\n"
     ]
    },
    {
     "name": "stdout",
     "output_type": "stream",
     "text": [
      "number is positive\n"
     ]
    }
   ],
   "source": [
    "#Q2 negative and psitive(assignment 2)\n",
    "a=int(input(\"enter a number\"))\n",
    "if a>0:\n",
    "    print(\"number is positive\")\n",
    "else:\n",
    "    print(\"number is negative\")"
   ]
  },
  {
   "cell_type": "code",
   "execution_count": 7,
   "id": "4fe5675a-150a-4213-a92f-54dcd081c237",
   "metadata": {},
   "outputs": [
    {
     "name": "stdin",
     "output_type": "stream",
     "text": [
      "enter your age 18\n"
     ]
    },
    {
     "name": "stdout",
     "output_type": "stream",
     "text": [
      "eligible to vote\n"
     ]
    }
   ],
   "source": [
    "#Q3 eligible to vote\n",
    "a=int(input(\"enter your age\"))\n",
    "if a>=18:\n",
    "    print(\"eligible to vote\")\n",
    "else:\n",
    "    print(\"not eligible\")"
   ]
  },
  {
   "cell_type": "code",
   "execution_count": 8,
   "id": "678b3d7c-795b-4317-af1c-396a663f4c41",
   "metadata": {},
   "outputs": [
    {
     "name": "stdin",
     "output_type": "stream",
     "text": [
      "enter a number 6\n"
     ]
    },
    {
     "name": "stdout",
     "output_type": "stream",
     "text": [
      "number is even\n"
     ]
    }
   ],
   "source": [
    "#Q4 evenodd\n",
    "a=int(input(\"enter a number\"))\n",
    "if a%2==0:\n",
    "    print(\"number is even\")\n",
    "else:\n",
    "    print(\"number is odd\")"
   ]
  },
  {
   "cell_type": "code",
   "execution_count": 9,
   "id": "b40a87a1-c649-425f-9ce8-17d50927d6ab",
   "metadata": {},
   "outputs": [
    {
     "name": "stdin",
     "output_type": "stream",
     "text": [
      "enter a string shreya\n"
     ]
    },
    {
     "name": "stdout",
     "output_type": "stream",
     "text": [
      "greater than 5\n"
     ]
    }
   ],
   "source": [
    "#Q5 length\n",
    "str=input(\"enter a string\")\n",
    "l=len(str)\n",
    "if l>5:\n",
    "    print(\"greater than 5\")"
   ]
  },
  {
   "cell_type": "code",
   "execution_count": 10,
   "id": "58d3463b-ea78-4b61-b003-a629e06c8244",
   "metadata": {},
   "outputs": [
    {
     "name": "stdin",
     "output_type": "stream",
     "text": [
      "enter your marks: 60\n"
     ]
    },
    {
     "name": "stdout",
     "output_type": "stream",
     "text": [
      "pass\n"
     ]
    }
   ],
   "source": [
    "#Q6 pass fail\n",
    "marks=int(input(\"enter your marks:\"))\n",
    "if marks>=40:\n",
    "    print(\"pass\")\n",
    "else:\n",
    "    print(\"fail\")"
   ]
  },
  {
   "cell_type": "code",
   "execution_count": 11,
   "id": "12aaeff4-2c40-4ff9-be9f-deddcd6178f2",
   "metadata": {},
   "outputs": [
    {
     "name": "stdin",
     "output_type": "stream",
     "text": [
      "enter a month: july\n"
     ]
    },
    {
     "name": "stdout",
     "output_type": "stream",
     "text": [
      "rainy\n"
     ]
    }
   ],
   "source": [
    "#elif\n",
    "mon=input(\"enter a month:\")\n",
    "if mon=='december' or mon=='january' or mon=='febuary':\n",
    "    print(\"season is winter\")\n",
    "elif mon=='march':\n",
    "    print(\"spring\")\n",
    "elif mon=='may' or mon=='april' or mon=='june':\n",
    "    print(\"summer\")\n",
    "elif mon=='july' or mon=='august' or mon=='september':\n",
    "    print(\"rainy\")\n",
    "else:\n",
    "    print(\"month is autumn\")"
   ]
  },
  {
   "cell_type": "code",
   "execution_count": 12,
   "id": "6d2e0f6c-7847-490b-9aee-10315b3fda0d",
   "metadata": {},
   "outputs": [
    {
     "name": "stdin",
     "output_type": "stream",
     "text": [
      "enter your vechical: motor bike\n"
     ]
    },
    {
     "name": "stdout",
     "output_type": "stream",
     "text": [
      "vechical expiry is 15 year\n"
     ]
    }
   ],
   "source": [
    "#vechile expire or not\n",
    "vec=input(\"enter your vechical:\")\n",
    "if vec=='motor bike':\n",
    "    print(\"vechical expiry is 15 year\")\n",
    "elif vec=='car':\n",
    "    print(\"vechical expiry is 10years\")\n",
    "else:\n",
    "    print(\"unknown vechical\")"
   ]
  },
  {
   "cell_type": "code",
   "execution_count": null,
   "id": "b8e7bf52-51c1-4fbf-adbe-fa3a4ada3ef6",
   "metadata": {},
   "outputs": [],
   "source": [
    "#3.looping statement\n",
    "1.while/entry control loop\n",
    "2.for"
   ]
  },
  {
   "cell_type": "code",
   "execution_count": 13,
   "id": "eaae2134-4712-419e-a602-8b421354580d",
   "metadata": {},
   "outputs": [
    {
     "name": "stdout",
     "output_type": "stream",
     "text": [
      "2\n",
      "4\n",
      "6\n",
      "8\n",
      "10\n",
      "12\n",
      "14\n",
      "16\n",
      "18\n",
      "20\n"
     ]
    }
   ],
   "source": [
    "#while loop\n",
    "i=1\n",
    "n=2\n",
    "while i<=10:\n",
    "    print(n*i)\n",
    "    i=i+1"
   ]
  },
  {
   "cell_type": "code",
   "execution_count": 1,
   "id": "f8135a63-02f8-45b9-82c8-3ad0d80a1973",
   "metadata": {},
   "outputs": [
    {
     "name": "stdin",
     "output_type": "stream",
     "text": [
      "enter a number 0\n"
     ]
    },
    {
     "name": "stdout",
     "output_type": "stream",
     "text": [
      "number equal to 0\n"
     ]
    }
   ],
   "source": [
    "# assignment 3(if,elif,nested if)\n",
    "#check whether a number is +ve,-ve and 0 using if -elif-else\n",
    "#Q1\n",
    "a=int(input(\"enter a number\"))\n",
    "if a>0:\n",
    "    print(\"number is positive\")\n",
    "elif a<0:\n",
    "    print(\"number is negative\")\n",
    "else:\n",
    "    print(\"number equal to 0\")"
   ]
  },
  {
   "cell_type": "code",
   "execution_count": 2,
   "id": "f141936b-f2b8-4a0b-b9e4-dce0e225df8c",
   "metadata": {},
   "outputs": [
    {
     "name": "stdin",
     "output_type": "stream",
     "text": [
      "enter your age 18\n"
     ]
    },
    {
     "name": "stdout",
     "output_type": "stream",
     "text": [
      "adult\n"
     ]
    }
   ],
   "source": [
    "#Q2 take user input for age.print'child'if age<13,teen if age<18,'adult' otherwise\n",
    "age=int(input(\"enter your age\"))\n",
    "if age<=13:\n",
    "    print(\"child\")\n",
    "elif age<18:\n",
    "    print(\"teen\")\n",
    "else:\n",
    "    print(\"adult\")"
   ]
  },
  {
   "cell_type": "code",
   "execution_count": 4,
   "id": "3da1af01-a4c5-4d9f-8e14-5fb2eb1de19e",
   "metadata": {},
   "outputs": [
    {
     "name": "stdin",
     "output_type": "stream",
     "text": [
      "enter a number 12\n"
     ]
    },
    {
     "name": "stdout",
     "output_type": "stream",
     "text": [
      "number is even\n",
      "number is greater than 10\n"
     ]
    }
   ],
   "source": [
    "#Q3\n",
    "n=int(input(\"enter a number\"))\n",
    "if n%2==0:\n",
    "    print(\"number is even\")\n",
    "    if n>=10:\n",
    "        print(\"number is greater than 10\")\n",
    "else:\n",
    "    print(\"odd\")"
   ]
  },
  {
   "cell_type": "code",
   "execution_count": 5,
   "id": "0740eafb-37b4-4863-84e8-4f087f54273c",
   "metadata": {},
   "outputs": [
    {
     "name": "stdin",
     "output_type": "stream",
     "text": [
      "enter your marks 95\n"
     ]
    },
    {
     "name": "stdout",
     "output_type": "stream",
     "text": [
      "A\n"
     ]
    }
   ],
   "source": [
    "#Q4\n",
    "marks=int(input(\"enter your marks\"))\n",
    "if marks>90:\n",
    "    print(\"A\")\n",
    "elif marks>75:\n",
    "    print(\"B\")\n",
    "elif marks>60:\n",
    "    print(\"C\")\n",
    "else:\n",
    "    print(\"fail\")"
   ]
  },
  {
   "cell_type": "code",
   "execution_count": 9,
   "id": "67d86304-7441-488b-9b47-309f13d7bc76",
   "metadata": {},
   "outputs": [
    {
     "ename": "SyntaxError",
     "evalue": "invalid syntax (3672022752.py, line 9)",
     "output_type": "error",
     "traceback": [
      "\u001b[1;36m  Cell \u001b[1;32mIn[9], line 9\u001b[1;36m\u001b[0m\n\u001b[1;33m    elif b>c:\u001b[0m\n\u001b[1;37m    ^\u001b[0m\n\u001b[1;31mSyntaxError\u001b[0m\u001b[1;31m:\u001b[0m invalid syntax\n"
     ]
    }
   ],
   "source": [
    "#Q5\n",
    "a=int(input(\"enter number\"))\n",
    "b=int(input(\"enter number\"))\n",
    "c=int(input(\"enter number\"))\n",
    "if a>b:\n",
    "    if a>c:\n",
    "        print(\"a is greater\")\n",
    "elif b>a:\n",
    "    elif b>c:\n",
    "         print(\"b is greater\")\n",
    "else:\n",
    "  print(\"c is greater\")\n",
    "    "
   ]
  },
  {
   "cell_type": "code",
   "execution_count": null,
   "id": "94750f4b-d679-499e-a0da-7ce1f1986758",
   "metadata": {},
   "outputs": [],
   "source": []
  },
  {
   "cell_type": "code",
   "execution_count": null,
   "id": "637b89b9-4c23-4e80-aab9-71bb0bf53e03",
   "metadata": {},
   "outputs": [],
   "source": []
  },
  {
   "cell_type": "code",
   "execution_count": null,
   "id": "7f6c4a55-9a4e-40d6-9d97-50eb88db1aa8",
   "metadata": {},
   "outputs": [],
   "source": []
  },
  {
   "cell_type": "code",
   "execution_count": null,
   "id": "b803d162-1717-4530-87ae-93df8ad599e2",
   "metadata": {},
   "outputs": [],
   "source": []
  }
 ],
 "metadata": {
  "kernelspec": {
   "display_name": "Python 3 (ipykernel)",
   "language": "python",
   "name": "python3"
  },
  "language_info": {
   "codemirror_mode": {
    "name": "ipython",
    "version": 3
   },
   "file_extension": ".py",
   "mimetype": "text/x-python",
   "name": "python",
   "nbconvert_exporter": "python",
   "pygments_lexer": "ipython3",
   "version": "3.13.5"
  }
 },
 "nbformat": 4,
 "nbformat_minor": 5
}
