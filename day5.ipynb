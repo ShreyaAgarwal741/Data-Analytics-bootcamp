{
 "cells": [
  {
   "cell_type": "code",
   "execution_count": 1,
   "id": "ff4650ef-5ca6-4600-90fe-ac35f0461f18",
   "metadata": {},
   "outputs": [
    {
     "name": "stdout",
     "output_type": "stream",
     "text": [
      "76\n"
     ]
    }
   ],
   "source": [
    "#Write a function to return the largest element in a list.\n",
    "a = [10, 24, 76, 23, 12]\n",
    "largest = a[0]\n",
    "for val in a:\n",
    "    if val > largest:\n",
    "         largest = val\n",
    "print(largest)"
   ]
  },
  {
   "cell_type": "code",
   "execution_count": null,
   "id": "712644bf-a5d6-46ae-a698-766ac9dd218e",
   "metadata": {},
   "outputs": [],
   "source": [
    "16-07-2025"
   ]
  },
  {
   "cell_type": "code",
   "execution_count": 1,
   "id": "eca47193-c3b1-479b-b4bf-04de8987bd8f",
   "metadata": {},
   "outputs": [
    {
     "name": "stdout",
     "output_type": "stream",
     "text": [
      "[1, 2, 7, 3]\n"
     ]
    }
   ],
   "source": [
    "#insert() in list\n",
    "l1=[1,2,3]\n",
    "l1.insert(2,7)\n",
    "print(l1)"
   ]
  },
  {
   "cell_type": "code",
   "execution_count": 3,
   "id": "4623b92a-01fd-40b4-9cd0-0b78faa17437",
   "metadata": {},
   "outputs": [
    {
     "name": "stdout",
     "output_type": "stream",
     "text": [
      "[1, 2, 3, 7]\n"
     ]
    }
   ],
   "source": [
    "#append()\n",
    "l1=[1,2,3]\n",
    "l1.append(7)\n",
    "print(l1)"
   ]
  },
  {
   "cell_type": "code",
   "execution_count": 7,
   "id": "4b54e3ed-2f66-4cc1-8fe4-0a85b0cad051",
   "metadata": {},
   "outputs": [
    {
     "name": "stdout",
     "output_type": "stream",
     "text": [
      "[1, 2, 3, 4, 5, 8]\n"
     ]
    }
   ],
   "source": [
    "#extend\n",
    "l1=[1,2,3,4]\n",
    "l1.extend([5,8])\n",
    "print(l1)"
   ]
  },
  {
   "cell_type": "code",
   "execution_count": 8,
   "id": "ae82c4b9-69b8-4e59-be83-601769b8996c",
   "metadata": {},
   "outputs": [
    {
     "name": "stdout",
     "output_type": "stream",
     "text": [
      "[1, 2, 3]\n"
     ]
    }
   ],
   "source": [
    "#pop\n",
    "l1=[1,2,3,4]\n",
    "l1.pop()\n",
    "print(l1)"
   ]
  },
  {
   "cell_type": "code",
   "execution_count": 10,
   "id": "b0d95f97-bcd7-4ec2-b81e-b1f2f5185e21",
   "metadata": {},
   "outputs": [
    {
     "name": "stdout",
     "output_type": "stream",
     "text": [
      "[1, 2, 3, 5, 4]\n"
     ]
    }
   ],
   "source": [
    "#remove\n",
    "l1=[1,2,3,4,5,4]\n",
    "l1.remove(4)\n",
    "print(l1)"
   ]
  },
  {
   "cell_type": "code",
   "execution_count": 11,
   "id": "58fecf33-7d89-497c-b6ab-f8d654f3dfd8",
   "metadata": {},
   "outputs": [
    {
     "name": "stdout",
     "output_type": "stream",
     "text": [
      "[]\n"
     ]
    }
   ],
   "source": [
    "#clear\n",
    "l1=[1,2,3,4]\n",
    "l1.clear()\n",
    "print(l1)"
   ]
  },
  {
   "cell_type": "code",
   "execution_count": 12,
   "id": "e54dd539-45c1-4f4c-93bd-c883bdc5c0aa",
   "metadata": {},
   "outputs": [
    {
     "data": {
      "text/plain": [
       "3"
      ]
     },
     "execution_count": 12,
     "metadata": {},
     "output_type": "execute_result"
    }
   ],
   "source": [
    "#index\n",
    "l1=[1,2,3,4]\n",
    "l1.index(4)"
   ]
  },
  {
   "cell_type": "code",
   "execution_count": 13,
   "id": "c1f0181b-c6a9-4844-b68e-a40711268cb8",
   "metadata": {},
   "outputs": [
    {
     "data": {
      "text/plain": [
       "3"
      ]
     },
     "execution_count": 13,
     "metadata": {},
     "output_type": "execute_result"
    }
   ],
   "source": [
    "#count\n",
    "l1=[1,2,3,4,4,4]\n",
    "l1.count(4)"
   ]
  },
  {
   "cell_type": "code",
   "execution_count": 19,
   "id": "7feec65b-359c-4d4c-8c24-f943ef3771ac",
   "metadata": {},
   "outputs": [
    {
     "name": "stdout",
     "output_type": "stream",
     "text": [
      "[1, 2, 3, 4]\n",
      "[4, 3, 2, 1]\n"
     ]
    }
   ],
   "source": [
    "#sort\n",
    "l1=[1,2,3,4]\n",
    "l1.sort()\n",
    "print(l1)\n",
    "l1.sort(reverse='true')\n",
    "print(l1)"
   ]
  },
  {
   "cell_type": "code",
   "execution_count": 17,
   "id": "5e4d822a-433a-463f-9a36-6753224de2f8",
   "metadata": {},
   "outputs": [
    {
     "name": "stdout",
     "output_type": "stream",
     "text": [
      "[4, 3, 2, 1]\n"
     ]
    }
   ],
   "source": [
    "#reverse\n",
    "l1=[1,2,3,4]\n",
    "l1.reverse()\n",
    "print(l1)"
   ]
  },
  {
   "cell_type": "code",
   "execution_count": 18,
   "id": "a1945d79-ab97-4276-8a09-f05c378acfe2",
   "metadata": {},
   "outputs": [
    {
     "name": "stdout",
     "output_type": "stream",
     "text": [
      "[1, 2, 3, 4]\n"
     ]
    }
   ],
   "source": [
    "#copy\n",
    "l1=[1,2,3,4]\n",
    "l2=l1.copy()\n",
    "print(l2)"
   ]
  },
  {
   "cell_type": "code",
   "execution_count": 21,
   "id": "624b0c73-5829-4ff7-9df4-e895e951bf88",
   "metadata": {},
   "outputs": [
    {
     "name": "stdin",
     "output_type": "stream",
     "text": [
      "enter element 1\n",
      "enter element 2\n",
      "enter element 3\n",
      "enter element 4\n",
      "enter element 5\n"
     ]
    },
    {
     "name": "stdout",
     "output_type": "stream",
     "text": [
      "[1, 2, 3, 4, 5]\n"
     ]
    }
   ],
   "source": [
    "#q1\n",
    "l1=[]\n",
    "a=int(input(\"enter element\"))\n",
    "b=int(input(\"enter element\"))\n",
    "c=int(input(\"enter element\"))\n",
    "d=int(input(\"enter element\"))\n",
    "e=int(input(\"enter element\"))\n",
    "l1.append(a)\n",
    "l1.append(b)\n",
    "l1.append(c)\n",
    "l1.append(d)\n",
    "l1.append(e)\n",
    "print(l1)"
   ]
  },
  {
   "cell_type": "code",
   "execution_count": 22,
   "id": "953b7677-c9f0-4a48-90eb-f0bc7cbd0e46",
   "metadata": {},
   "outputs": [
    {
     "name": "stdout",
     "output_type": "stream",
     "text": [
      "[1, 2, 3, 4, 5, 6]\n"
     ]
    }
   ],
   "source": [
    "#Q2\n",
    "list1=[1,2,3]\n",
    "list2=[4,5,6]\n",
    "list1.extend(list2)\n",
    "print(list1)"
   ]
  },
  {
   "cell_type": "code",
   "execution_count": 23,
   "id": "f2cce79b-31de-42a1-a1f1-e9ccbf06c30d",
   "metadata": {},
   "outputs": [
    {
     "name": "stdout",
     "output_type": "stream",
     "text": [
      "[10, 20, 25, 30, 40]\n"
     ]
    }
   ],
   "source": [
    "#Q3\n",
    "l=[10,20,30,40]\n",
    "l.insert(2,25)\n",
    "print(l)"
   ]
  },
  {
   "cell_type": "code",
   "execution_count": 24,
   "id": "806e796b-79dd-4f8f-a9c4-dd8eb16290fe",
   "metadata": {},
   "outputs": [
    {
     "name": "stdout",
     "output_type": "stream",
     "text": [
      "[10, 30, 20, 40]\n"
     ]
    }
   ],
   "source": [
    "#Q4\n",
    "l=[10,20,30,20,40]\n",
    "l.remove(20)\n",
    "print(l)"
   ]
  },
  {
   "cell_type": "code",
   "execution_count": 26,
   "id": "e4683688-8c5b-4649-b983-34e8002f07a8",
   "metadata": {},
   "outputs": [
    {
     "name": "stdout",
     "output_type": "stream",
     "text": [
      "[1, 2, 3, 4]\n"
     ]
    }
   ],
   "source": [
    "#Q5\n",
    "l=[1,2,3,4,5]\n",
    "l.pop()\n",
    "print(l)"
   ]
  },
  {
   "cell_type": "code",
   "execution_count": 27,
   "id": "58da648a-99c5-43a0-8c46-37cae15dc0bb",
   "metadata": {},
   "outputs": [
    {
     "data": {
      "text/plain": [
       "2"
      ]
     },
     "execution_count": 27,
     "metadata": {},
     "output_type": "execute_result"
    }
   ],
   "source": [
    "#Q6\n",
    "l=[5,10,15,20,25]\n",
    "l.index(15)"
   ]
  },
  {
   "cell_type": "code",
   "execution_count": 28,
   "id": "bb1b1008-82cc-41fe-9939-b9b45b741c06",
   "metadata": {},
   "outputs": [
    {
     "data": {
      "text/plain": [
       "4"
      ]
     },
     "execution_count": 28,
     "metadata": {},
     "output_type": "execute_result"
    }
   ],
   "source": [
    "#Q7\n",
    "l=[1,2,2,3,2,4,2]\n",
    "l.count(2)"
   ]
  },
  {
   "cell_type": "code",
   "execution_count": 29,
   "id": "933141c8-4453-43f1-8b92-8263ee3a7e8c",
   "metadata": {},
   "outputs": [
    {
     "name": "stdout",
     "output_type": "stream",
     "text": [
      "[3, 5, 7, 10]\n",
      "[10, 7, 5, 3]\n"
     ]
    }
   ],
   "source": [
    "#Q8\n",
    "l=[10,5,7,3]\n",
    "l.sort()\n",
    "print(l)\n",
    "l.sort(reverse='true')\n",
    "print(l)"
   ]
  },
  {
   "cell_type": "code",
   "execution_count": 30,
   "id": "d240c9c6-41ad-4796-8415-a83811dc1920",
   "metadata": {},
   "outputs": [
    {
     "name": "stdout",
     "output_type": "stream",
     "text": [
      "[5, 4, 3, 2, 1]\n"
     ]
    }
   ],
   "source": [
    "#Q9\n",
    "l=[1,2,3,4,5]\n",
    "l.reverse()\n",
    "print(l)"
   ]
  },
  {
   "cell_type": "code",
   "execution_count": 31,
   "id": "a854e2de-fe45-4e5a-a2b8-8d8cd00a78f6",
   "metadata": {},
   "outputs": [
    {
     "name": "stdout",
     "output_type": "stream",
     "text": [
      "[1, 2, 3]\n",
      "[1, 2, 3, 12]\n",
      "[1, 2, 3]\n"
     ]
    }
   ],
   "source": [
    "#Q10\n",
    "l=[1,2,3]\n",
    "l2=l.copy()\n",
    "print(l2)\n",
    "l2.append(12)\n",
    "print(l2)\n",
    "print(l)"
   ]
  },
  {
   "cell_type": "code",
   "execution_count": 32,
   "id": "4d40bcc7-4c64-43e5-adce-ce5c68e48457",
   "metadata": {},
   "outputs": [
    {
     "data": {
      "text/plain": [
       "[1, 4, 9]"
      ]
     },
     "execution_count": 32,
     "metadata": {},
     "output_type": "execute_result"
    }
   ],
   "source": [
    "#comprehension list\n",
    "[i**2 for i in[1,2,3]]"
   ]
  },
  {
   "cell_type": "code",
   "execution_count": 33,
   "id": "91980000-8fea-425e-9aa4-45e859606a4f",
   "metadata": {},
   "outputs": [
    {
     "data": {
      "text/plain": [
       "[15, 17, 25, 27, 35, 37]"
      ]
     },
     "execution_count": 33,
     "metadata": {},
     "output_type": "execute_result"
    }
   ],
   "source": [
    "[10*i+j for i in [1,2,3] for j in[5,7]]"
   ]
  },
  {
   "cell_type": "code",
   "execution_count": 34,
   "id": "f516b4cb-883b-4280-a5ea-94f1268f1c77",
   "metadata": {},
   "outputs": [
    {
     "data": {
      "text/plain": [
       "3"
      ]
     },
     "execution_count": 34,
     "metadata": {},
     "output_type": "execute_result"
    }
   ],
   "source": [
    "#tuple index function\n",
    "tup=(1,2,3,4)\n",
    "tup.index(4)"
   ]
  },
  {
   "cell_type": "code",
   "execution_count": 36,
   "id": "c7135a92-7296-4901-a489-f0bf7503adea",
   "metadata": {},
   "outputs": [
    {
     "data": {
      "text/plain": [
       "3"
      ]
     },
     "execution_count": 36,
     "metadata": {},
     "output_type": "execute_result"
    }
   ],
   "source": [
    "#tuple count\n",
    "tup=(1,1,1,11,2,3,4)\n",
    "tup.count(1)"
   ]
  },
  {
   "cell_type": "code",
   "execution_count": 38,
   "id": "ead726ea-665c-4b72-87c3-8f71d09402b9",
   "metadata": {},
   "outputs": [
    {
     "data": {
      "text/plain": [
       "3"
      ]
     },
     "execution_count": 38,
     "metadata": {},
     "output_type": "execute_result"
    }
   ],
   "source": [
    "#tuple count\n",
    "tup=tuple('a string with many \"a\"s')\n",
    "tup.count('a')"
   ]
  },
  {
   "cell_type": "code",
   "execution_count": 39,
   "id": "275f79df-3262-440a-9e05-37bd5cf7b6f3",
   "metadata": {},
   "outputs": [
    {
     "data": {
      "text/plain": [
       "0"
      ]
     },
     "execution_count": 39,
     "metadata": {},
     "output_type": "execute_result"
    }
   ],
   "source": [
    "tup.index('a')"
   ]
  },
  {
   "cell_type": "code",
   "execution_count": 40,
   "id": "65c040ef-4d13-496f-acc6-96c94516fa38",
   "metadata": {},
   "outputs": [
    {
     "name": "stdout",
     "output_type": "stream",
     "text": [
      "[1, 2, 3]\n",
      "[5]\n"
     ]
    }
   ],
   "source": [
    "n=[1,2,3,4,5]\n",
    "print(n[0:3])\n",
    "print(n[4:])"
   ]
  },
  {
   "cell_type": "code",
   "execution_count": null,
   "id": "35d0ce85-9074-469f-ad19-948e59a468f8",
   "metadata": {},
   "outputs": [],
   "source": []
  },
  {
   "cell_type": "code",
   "execution_count": null,
   "id": "a8552bd2-0ca9-4199-9e64-15521d39de1e",
   "metadata": {},
   "outputs": [],
   "source": []
  }
 ],
 "metadata": {
  "kernelspec": {
   "display_name": "Python 3 (ipykernel)",
   "language": "python",
   "name": "python3"
  },
  "language_info": {
   "codemirror_mode": {
    "name": "ipython",
    "version": 3
   },
   "file_extension": ".py",
   "mimetype": "text/x-python",
   "name": "python",
   "nbconvert_exporter": "python",
   "pygments_lexer": "ipython3",
   "version": "3.13.5"
  }
 },
 "nbformat": 4,
 "nbformat_minor": 5
}
