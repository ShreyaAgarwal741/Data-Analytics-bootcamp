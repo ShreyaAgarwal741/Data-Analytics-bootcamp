{
 "cells": [
  {
   "cell_type": "code",
   "execution_count": 1,
   "id": "0c805aeb-5a17-40ec-a8ad-38149ca4b0e0",
   "metadata": {},
   "outputs": [],
   "source": [
    "import pandas as pd"
   ]
  },
  {
   "cell_type": "code",
   "execution_count": 6,
   "id": "ed322e89-65b3-4edf-af52-35faa2ebbed1",
   "metadata": {},
   "outputs": [
    {
     "name": "stdout",
     "output_type": "stream",
     "text": [
      "\n",
      "   name  course  Marks grade\n",
      "0  Diya     BCA     93     A\n",
      "1  Riya     BBA     97    A+\n",
      "2  Siya  B.TECH     84     B\n"
     ]
    }
   ],
   "source": [
    "data={\n",
    "    'name':['Diya','Riya','Siya'],\n",
    "    'course':['BCA','BBA','B.TECH'],\n",
    "    'Marks':[88,92,79]\n",
    "}\n",
    "\n",
    "print(\"\")\n",
    "df=pd.DataFrame(data)\n",
    "def get_grade(Marks):\n",
    "    if Marks>=85:\n",
    "        return \"A\"\n",
    "    elif Marks >=65:\n",
    "        return \"B\"\n",
    "    else:\n",
    "        return \"C\"\n",
    "\n",
    "df['grade']=df['Marks'].apply(get_grade)\n",
    "df['grade']=['A','A+','B']\n",
    "df['Marks']=df['Marks']+5\n",
    "print(df)"
   ]
  },
  {
   "cell_type": "code",
   "execution_count": 9,
   "id": "0f10d2fa-a98e-45aa-b86a-8884c4fc8108",
   "metadata": {},
   "outputs": [
    {
     "name": "stdout",
     "output_type": "stream",
     "text": [
      "\n",
      "   name  course  Marks grade\n",
      "0  Diya     BCA     93     A\n",
      "1  Riya     BBA     97    A+\n",
      "2  Siya  B.TECH     84     B\n"
     ]
    }
   ],
   "source": [
    "data={\n",
    "    'name':['Diya','Riya','Siya'],\n",
    "    'course':['BCA','BBA','B.TECH'],\n",
    "    'Marks':[88,92,79]\n",
    "}\n",
    "\n",
    "print(\"\")\n",
    "df=pd.DataFrame(data)\n",
    "def get_grade(Marks):\n",
    "    if Marks>=85:\n",
    "        return \"A\"\n",
    "    elif Marks >=65:\n",
    "        return \"B\"\n",
    "    else:\n",
    "        return \"C\"\n",
    "\n",
    "df['grade']=df['Marks'].apply(get_grade)\n",
    "df['grade']=['A','A+','B']\n",
    "df['Marks']=df['Marks']+5\n",
    "print(df)\n",
    "df.drop(\"grade\",axis=1,inplace=True)\n",
    "df.drop(1,axis=0,inplace=True)"
   ]
  },
  {
   "cell_type": "code",
   "execution_count": 15,
   "id": "2c000612-33a2-4ba8-a064-2c622aa20004",
   "metadata": {},
   "outputs": [
    {
     "name": "stdout",
     "output_type": "stream",
     "text": [
      "   name  course  Marks\n",
      "0  Diya     BCA     93\n",
      "2  Siya  B.TECH     84\n"
     ]
    }
   ],
   "source": [
    "print(df.sort_values(by ='Marks',ascending=False))"
   ]
  },
  {
   "cell_type": "code",
   "execution_count": 38,
   "id": "cb0f61fc-e96a-4741-8c15-e3cdb2aa5fb0",
   "metadata": {},
   "outputs": [
    {
     "name": "stderr",
     "output_type": "stream",
     "text": [
      "C:\\Users\\om-31687\\AppData\\Local\\Temp\\ipykernel_14300\\1610446935.py:5: FutureWarning: Setting an item of incompatible dtype is deprecated and will raise an error in a future version of pandas. Value 'A' has dtype incompatible with float64, please explicitly cast to a compatible dtype first.\n",
      "  df.fillna('A',inplace=True)\n"
     ]
    }
   ],
   "source": [
    "df=pd.DataFrame({\n",
    "    'name':['A','B',None],\n",
    "    'marks':[88,None,75]\n",
    "})\n",
    "df.fillna('A',inplace=True)\n",
    "df.dropna(inplace=True)"
   ]
  },
  {
   "cell_type": "code",
   "execution_count": 21,
   "id": "a7eabf46-763b-4034-bf5f-717d862b2428",
   "metadata": {},
   "outputs": [
    {
     "name": "stdout",
     "output_type": "stream",
     "text": [
      "dept\n",
      "HR    46000.0\n",
      "IT    55000.0\n",
      "Name: sal, dtype: float64\n"
     ]
    }
   ],
   "source": [
    "df=pd.DataFrame({\n",
    "    'dept':['IT','IT','HR','HR'],\n",
    "    'sal':[50000,60000,45000,47000]\n",
    "})\n",
    "print(df.groupby('dept')['sal'].mean())"
   ]
  },
  {
   "cell_type": "code",
   "execution_count": 24,
   "id": "25d0b96b-43bd-443a-bdb2-84a77ea0e865",
   "metadata": {},
   "outputs": [
    {
     "name": "stdout",
     "output_type": "stream",
     "text": [
      "   id name  marks\n",
      "0   1    A     88\n",
      "1   2    B     60\n"
     ]
    }
   ],
   "source": [
    "df1=pd.DataFrame({'id':[1,2],'name':['A','B']})\n",
    "df2=pd.DataFrame({'id':[1,2],'marks':[88,60]})\n",
    "merge=pd.merge(df1,df2,on='id')\n",
    "print(merge)"
   ]
  },
  {
   "cell_type": "code",
   "execution_count": 25,
   "id": "07c4f5d1-6b9b-4b31-a36e-055493679375",
   "metadata": {},
   "outputs": [],
   "source": [
    "#matplotlib\n",
    "import matplotlib.pyplot as plt"
   ]
  },
  {
   "cell_type": "code",
   "execution_count": 26,
   "id": "37a7c967-9f49-4bab-a225-b7c3b42ac405",
   "metadata": {},
   "outputs": [
    {
     "data": {
      "image/png": "[encoded data removed]",
      "text/plain": [
       "<Figure size 640x480 with 1 Axes>"
      ]
     },
     "metadata": {},
     "output_type": "display_data"
    }
   ],
   "source": [
    "x=[1,2,3,4,5]\n",
    "y=[1,2,3,4,5]\n",
    "plt.plot(x,y,color='red',linestyle='--',marker='o')\n",
    "plt.title(\"line plot\")\n",
    "plt.xlabel(\"x-axis\")\n",
    "plt.ylabel(\"y-axis\")\n",
    "plt.grid(True)\n",
    "plt.show()"
   ]
  },
  {
   "cell_type": "code",
   "execution_count": 29,
   "id": "90721c07-e4fb-45d4-b876-09a7b77957e0",
   "metadata": {},
   "outputs": [
    {
     "data": {
      "image/png": "[encoded data removed]",
      "text/plain": [
       "<Figure size 640x480 with 1 Axes>"
      ]
     },
     "metadata": {},
     "output_type": "display_data"
    }
   ],
   "source": [
    "#bar graph\n",
    "x=[1,2,3,4,5]\n",
    "y=[1,2,3,4,5]\n",
    "plt.bar(x,y,color='purple')\n",
    "plt.title(\"bar chart\")\n",
    "plt.show()"
   ]
  },
  {
   "cell_type": "code",
   "execution_count": 31,
   "id": "feb5dceb-e71e-498f-9f76-0861bccc278f",
   "metadata": {},
   "outputs": [
    {
     "data": {
      "image/png": "[encoded data removed]",
      "text/plain": [
       "<Figure size 640x480 with 1 Axes>"
      ]
     },
     "metadata": {},
     "output_type": "display_data"
    }
   ],
   "source": [
    "#horizontal bargraph\n",
    "x=[1,2,3,4,5]\n",
    "y=[1,2,3,4,5]\n",
    "plt.barh(x,y,color='green')\n",
    "plt.title(\" horizontal bar chart\")\n",
    "plt.show()"
   ]
  },
  {
   "cell_type": "code",
   "execution_count": 32,
   "id": "365d2909-5057-4aa4-9cdf-74367d5338cb",
   "metadata": {},
   "outputs": [
    {
     "data": {
      "image/png": "[encoded data removed]",
      "text/plain": [
       "<Figure size 640x480 with 1 Axes>"
      ]
     },
     "metadata": {},
     "output_type": "display_data"
    }
   ],
   "source": [
    "x=[1,2,3,4,5]\n",
    "y=[1,2,3,4,5]\n",
    "plt.scatter(x,y,color='yellow')\n",
    "plt.title(\"scatter graph\")\n",
    "plt.show()"
   ]
  },
  {
   "cell_type": "code",
   "execution_count": 33,
   "id": "3bf2f7d8-157f-4099-a642-696099c3c49c",
   "metadata": {},
   "outputs": [],
   "source": [
    "import numpy as np"
   ]
  },
  {
   "cell_type": "code",
   "execution_count": 37,
   "id": "a2082ad0-a9e7-4ad5-bf5b-367d0715cbae",
   "metadata": {},
   "outputs": [
    {
     "data": {
      "image/png": "[encoded data removed]",
      "text/plain": [
       "<Figure size 640x480 with 1 Axes>"
      ]
     },
     "metadata": {},
     "output_type": "display_data"
    }
   ],
   "source": [
    "data=np.random.randn(1000)\n",
    "plt.hist(data,bins=30,color='darkblue')\n",
    "plt.title(\"Histogram\")\n",
    "plt.show()"
   ]
  },
  {
   "cell_type": "code",
   "execution_count": 35,
   "id": "e89200af-e795-4f75-a5aa-412aa04968b8",
   "metadata": {},
   "outputs": [
    {
     "data": {
      "image/png": "[encoded data removed]",
      "text/plain": [
       "<Figure size 640x480 with 1 Axes>"
      ]
     },
     "metadata": {},
     "output_type": "display_data"
    }
   ],
   "source": [
    "labels=['python','java','c++']\n",
    "sizes=[50,50,50]\n",
    "plt.pie(sizes,labels=labels,autopct='%1.1f%%',startangle=90)\n",
    "plt.title(\"pie chart\")\n",
    "plt.show()"
   ]
  },
  {
   "cell_type": "code",
   "execution_count": 12,
   "id": "6efd9a3c-e675-478e-831a-25d6f15cbf9c",
   "metadata": {},
   "outputs": [],
   "source": [
    "import pandas as pd\n"
   ]
  },
  {
   "cell_type": "code",
   "execution_count": 17,
   "id": "39bb64e9-832f-4ce1-a6c2-6261b6247ca3",
   "metadata": {},
   "outputs": [
    {
     "name": "stdout",
     "output_type": "stream",
     "text": [
      "    brand                model  top_speed_kmh  battery_capacity_kWh  \\\n",
      "0  Abarth     500e Convertible            155                  37.8   \n",
      "1  Abarth       500e Hatchback            155                  37.8   \n",
      "2  Abarth  600e Scorpionissima            200                  50.8   \n",
      "3  Abarth         600e Turismo            200                  50.8   \n",
      "4  Aiways                   U5            150                  60.0   \n",
      "\n",
      "  battery_type  number_of_cells  torque_nm  efficiency_wh_per_km  range_km  \\\n",
      "0  Lithium-ion            192.0      235.0                   156       225   \n",
      "1  Lithium-ion            192.0      235.0                   149       225   \n",
      "2  Lithium-ion            102.0      345.0                   158       280   \n",
      "3  Lithium-ion            102.0      345.0                   158       280   \n",
      "4  Lithium-ion              NaN      310.0                   156       315   \n",
      "\n",
      "   acceleration_0_100_s  ...  towing_capacity_kg cargo_volume_l  seats  \\\n",
      "0                   7.0  ...                 0.0            185      4   \n",
      "1                   7.0  ...                 0.0            185      4   \n",
      "2                   5.9  ...                 0.0            360      5   \n",
      "3                   6.2  ...                 0.0            360      5   \n",
      "4                   7.5  ...                 NaN            496      5   \n",
      "\n",
      "  drivetrain       segment length_mm width_mm  height_mm  car_body_type  \\\n",
      "0        FWD   B - Compact      3673     1683       1518      Hatchback   \n",
      "1        FWD   B - Compact      3673     1683       1518      Hatchback   \n",
      "2        FWD  JB - Compact      4187     1779       1557            SUV   \n",
      "3        FWD  JB - Compact      4187     1779       1557            SUV   \n",
      "4        FWD   JC - Medium      4680     1865       1700            SUV   \n",
      "\n",
      "                                          source_url  \n",
      "0  https://ev-database.org/car/1904/Abarth-500e-C...  \n",
      "1  https://ev-database.org/car/1903/Abarth-500e-H...  \n",
      "2  https://ev-database.org/car/3057/Abarth-600e-S...  \n",
      "3  https://ev-database.org/car/3056/Abarth-600e-T...  \n",
      "4         https://ev-database.org/car/1678/Aiways-U5  \n",
      "\n",
      "[5 rows x 22 columns]\n"
     ]
    }
   ],
   "source": [
    "data = pd.read_csv(\"sample.csv\")\n",
    "print(data.head())"
   ]
  },
  {
   "cell_type": "code",
   "execution_count": 21,
   "id": "705efe61-eafd-4481-b34f-7b9ea25ebf11",
   "metadata": {},
   "outputs": [
    {
     "name": "stdout",
     "output_type": "stream",
     "text": [
      "Head:first 5 rows\n",
      "    brand                model  top_speed_kmh  battery_capacity_kWh  \\\n",
      "0  Abarth     500e Convertible            155                  37.8   \n",
      "1  Abarth       500e Hatchback            155                  37.8   \n",
      "2  Abarth  600e Scorpionissima            200                  50.8   \n",
      "3  Abarth         600e Turismo            200                  50.8   \n",
      "4  Aiways                   U5            150                  60.0   \n",
      "\n",
      "  battery_type  number_of_cells  torque_nm  efficiency_wh_per_km  range_km  \\\n",
      "0  Lithium-ion            192.0      235.0                   156       225   \n",
      "1  Lithium-ion            192.0      235.0                   149       225   \n",
      "2  Lithium-ion            102.0      345.0                   158       280   \n",
      "3  Lithium-ion            102.0      345.0                   158       280   \n",
      "4  Lithium-ion              NaN      310.0                   156       315   \n",
      "\n",
      "   acceleration_0_100_s  ...  towing_capacity_kg cargo_volume_l  seats  \\\n",
      "0                   7.0  ...                 0.0            185      4   \n",
      "1                   7.0  ...                 0.0            185      4   \n",
      "2                   5.9  ...                 0.0            360      5   \n",
      "3                   6.2  ...                 0.0            360      5   \n",
      "4                   7.5  ...                 NaN            496      5   \n",
      "\n",
      "  drivetrain       segment length_mm width_mm  height_mm  car_body_type  \\\n",
      "0        FWD   B - Compact      3673     1683       1518      Hatchback   \n",
      "1        FWD   B - Compact      3673     1683       1518      Hatchback   \n",
      "2        FWD  JB - Compact      4187     1779       1557            SUV   \n",
      "3        FWD  JB - Compact      4187     1779       1557            SUV   \n",
      "4        FWD   JC - Medium      4680     1865       1700            SUV   \n",
      "\n",
      "                                          source_url  \n",
      "0  https://ev-database.org/car/1904/Abarth-500e-C...  \n",
      "1  https://ev-database.org/car/1903/Abarth-500e-H...  \n",
      "2  https://ev-database.org/car/3057/Abarth-600e-S...  \n",
      "3  https://ev-database.org/car/3056/Abarth-600e-T...  \n",
      "4         https://ev-database.org/car/1678/Aiways-U5  \n",
      "\n",
      "[5 rows x 22 columns]\n",
      "\n",
      "Tail:last 5 rows\n",
      "       brand                    model  top_speed_kmh  battery_capacity_kWh  \\\n",
      "473    Zeekr           7X Premium RWD            210                  71.0   \n",
      "474    Zeekr        X Core RWD (MY25)            190                  49.0   \n",
      "475    Zeekr  X Long Range RWD (MY25)            190                  65.0   \n",
      "476    Zeekr   X Privilege AWD (MY25)            190                  65.0   \n",
      "477  firefly                      NaN            150                  41.2   \n",
      "\n",
      "    battery_type  number_of_cells  torque_nm  efficiency_wh_per_km  range_km  \\\n",
      "473  Lithium-ion              NaN      440.0                   148       365   \n",
      "474  Lithium-ion              NaN      343.0                   148       265   \n",
      "475  Lithium-ion              NaN      343.0                   146       360   \n",
      "476  Lithium-ion              NaN      543.0                   153       350   \n",
      "477  Lithium-ion            112.0      200.0                   125       250   \n",
      "\n",
      "     acceleration_0_100_s  ...  towing_capacity_kg cargo_volume_l  seats  \\\n",
      "473                   6.0  ...              2000.0            539      5   \n",
      "474                   5.9  ...              1600.0            362      5   \n",
      "475                   5.6  ...              1600.0            362      5   \n",
      "476                   3.8  ...              1600.0            362      5   \n",
      "477                   8.1  ...                 0.0            404      5   \n",
      "\n",
      "    drivetrain       segment length_mm width_mm  height_mm  car_body_type  \\\n",
      "473        RWD    JD - Large      4787     1930       1650            SUV   \n",
      "474        RWD  JB - Compact      4432     1836       1566            SUV   \n",
      "475        RWD  JB - Compact      4432     1836       1566            SUV   \n",
      "476        AWD  JB - Compact      4432     1836       1566            SUV   \n",
      "477        RWD   B - Compact      4003     1885       1557      Hatchback   \n",
      "\n",
      "                                            source_url  \n",
      "473  https://ev-database.org/car/3081/Zeekr-7X-Prem...  \n",
      "474  https://ev-database.org/car/3197/Zeekr-X-Core-RWD  \n",
      "475  https://ev-database.org/car/3198/Zeekr-X-Long-...  \n",
      "476  https://ev-database.org/car/3199/Zeekr-X-Privi...  \n",
      "477   https://ev-database.org/car/3178/firefly-firefly  \n",
      "\n",
      "[5 rows x 22 columns]\n",
      "\n",
      "shape:(rows,columns)\n",
      "(478, 22)\n",
      "\n",
      "columns:Column names\n",
      "Index(['brand', 'model', 'top_speed_kmh', 'battery_capacity_kWh',\n",
      "       'battery_type', 'number_of_cells', 'torque_nm', 'efficiency_wh_per_km',\n",
      "       'range_km', 'acceleration_0_100_s', 'fast_charging_power_kw_dc',\n",
      "       'fast_charge_port', 'towing_capacity_kg', 'cargo_volume_l', 'seats',\n",
      "       'drivetrain', 'segment', 'length_mm', 'width_mm', 'height_mm',\n",
      "       'car_body_type', 'source_url'],\n",
      "      dtype='object')\n",
      "\n",
      "Stats Summary\n",
      "       top_speed_kmh  battery_capacity_kWh  number_of_cells    torque_nm  \\\n",
      "count     478.000000            478.000000       276.000000   471.000000   \n",
      "mean      185.487448             74.043724       485.293478   498.012739   \n",
      "std        34.252773             20.331058      1210.819733   241.461128   \n",
      "min       125.000000             21.300000        72.000000   113.000000   \n",
      "25%       160.000000             60.000000       150.000000   305.000000   \n",
      "50%       180.000000             76.150000       216.000000   430.000000   \n",
      "75%       201.000000             90.600000       324.000000   679.000000   \n",
      "max       325.000000            118.000000      7920.000000  1350.000000   \n",
      "\n",
      "       efficiency_wh_per_km    range_km  acceleration_0_100_s  \\\n",
      "count            478.000000  478.000000            478.000000   \n",
      "mean             162.903766  393.179916              6.882636   \n",
      "std               34.317532  103.287335              2.730696   \n",
      "min              109.000000  135.000000              2.200000   \n",
      "25%              143.000000  320.000000              4.800000   \n",
      "50%              155.000000  397.500000              6.600000   \n",
      "75%              177.750000  470.000000              8.200000   \n",
      "max              370.000000  685.000000             19.100000   \n",
      "\n",
      "       fast_charging_power_kw_dc  towing_capacity_kg       seats    length_mm  \\\n",
      "count                 477.000000          452.000000  478.000000   478.000000   \n",
      "mean                  125.008386         1052.261062    5.263598  4678.506276   \n",
      "std                    58.205012          737.851774    1.003961   369.210573   \n",
      "min                    29.000000            0.000000    2.000000  3620.000000   \n",
      "25%                    80.000000          500.000000    5.000000  4440.000000   \n",
      "50%                   113.000000         1000.000000    5.000000  4720.000000   \n",
      "75%                   150.000000         1600.000000    5.000000  4961.000000   \n",
      "max                   281.000000         2500.000000    9.000000  5908.000000   \n",
      "\n",
      "          width_mm    height_mm  \n",
      "count   478.000000   478.000000  \n",
      "mean   1887.359833  1601.125523  \n",
      "std      73.656807   130.754851  \n",
      "min    1610.000000  1329.000000  \n",
      "25%    1849.000000  1514.000000  \n",
      "50%    1890.000000  1596.000000  \n",
      "75%    1939.000000  1665.000000  \n",
      "max    2080.000000  1986.000000  \n",
      "\n",
      "info:Summary\n",
      "<class 'pandas.core.frame.DataFrame'>\n",
      "RangeIndex: 478 entries, 0 to 477\n",
      "Data columns (total 22 columns):\n",
      " #   Column                     Non-Null Count  Dtype  \n",
      "---  ------                     --------------  -----  \n",
      " 0   brand                      478 non-null    object \n",
      " 1   model                      477 non-null    object \n",
      " 2   top_speed_kmh              478 non-null    int64  \n",
      " 3   battery_capacity_kWh       478 non-null    float64\n",
      " 4   battery_type               478 non-null    object \n",
      " 5   number_of_cells            276 non-null    float64\n",
      " 6   torque_nm                  471 non-null    float64\n",
      " 7   efficiency_wh_per_km       478 non-null    int64  \n",
      " 8   range_km                   478 non-null    int64  \n",
      " 9   acceleration_0_100_s       478 non-null    float64\n",
      " 10  fast_charging_power_kw_dc  477 non-null    float64\n",
      " 11  fast_charge_port           477 non-null    object \n",
      " 12  towing_capacity_kg         452 non-null    float64\n",
      " 13  cargo_volume_l             477 non-null    object \n",
      " 14  seats                      478 non-null    int64  \n",
      " 15  drivetrain                 478 non-null    object \n",
      " 16  segment                    478 non-null    object \n",
      " 17  length_mm                  478 non-null    int64  \n",
      " 18  width_mm                   478 non-null    int64  \n",
      " 19  height_mm                  478 non-null    int64  \n",
      " 20  car_body_type              478 non-null    object \n",
      " 21  source_url                 478 non-null    object \n",
      "dtypes: float64(6), int64(7), object(9)\n",
      "memory usage: 82.3+ KB\n",
      "None\n"
     ]
    },
    {
     "ename": "NameError",
     "evalue": "name 'df' is not defined",
     "output_type": "error",
     "traceback": [
      "\u001b[1;31m---------------------------------------------------------------------------\u001b[0m",
      "\u001b[1;31mNameError\u001b[0m                                 Traceback (most recent call last)",
      "Cell \u001b[1;32mIn[21], line 18\u001b[0m\n\u001b[0;32m     16\u001b[0m \u001b[38;5;28mprint\u001b[39m(\u001b[38;5;124m\"\u001b[39m\u001b[38;5;124minfo:Summary\u001b[39m\u001b[38;5;124m\"\u001b[39m)\n\u001b[0;32m     17\u001b[0m \u001b[38;5;28mprint\u001b[39m(data\u001b[38;5;241m.\u001b[39minfo())\n\u001b[1;32m---> 18\u001b[0m df\u001b[38;5;241m.\u001b[39mdropna(inplace\u001b[38;5;241m=\u001b[39m\u001b[38;5;28;01mTrue\u001b[39;00m)\n\u001b[0;32m     19\u001b[0m df\u001b[38;5;241m.\u001b[39mdropna(inplace\u001b[38;5;241m=\u001b[39m\u001b[38;5;28;01mTrue\u001b[39;00m)\n\u001b[0;32m     20\u001b[0m df\u001b[38;5;241m.\u001b[39mdropna()\n",
      "\u001b[1;31mNameError\u001b[0m: name 'df' is not defined"
     ]
    }
   ],
   "source": [
    "print(\"Head:first 5 rows\")\n",
    "print(data.head())\n",
    "print(\"\")\n",
    "print(\"Tail:last 5 rows\")\n",
    "print(data.tail())\n",
    "print(\"\")\n",
    "print(\"shape:(rows,columns)\")\n",
    "print(data.shape)\n",
    "print(\"\")\n",
    "print(\"columns:Column names\")\n",
    "print(data.columns)\n",
    "print(\"\")\n",
    "print(\"Stats Summary\")\n",
    "print(data.describe())\n",
    "print(\"\")\n",
    "print(\"info:Summary\")\n",
    "print(data.info())\n",
    "df.dropna(inplace=True)\n",
    "df.dropna(inplace=True)\n",
    "df.dropna()\n",
    "print(data)"
   ]
  },
  {
   "cell_type": "code",
   "execution_count": null,
   "id": "637a7e6a-7aa6-4871-990b-53e9f5f6b072",
   "metadata": {},
   "outputs": [],
   "source": []
  },
  {
   "cell_type": "code",
   "execution_count": null,
   "id": "657e25f4-88ef-487e-a380-f242f86e293c",
   "metadata": {},
   "outputs": [],
   "source": []
  },
  {
   "cell_type": "code",
   "execution_count": null,
   "id": "e9de04fc-1e8e-483e-b763-8c7189988c7b",
   "metadata": {},
   "outputs": [],
   "source": []
  },
  {
   "cell_type": "code",
   "execution_count": null,
   "id": "0137aeae-b18f-4665-9e85-b633d95b190d",
   "metadata": {},
   "outputs": [],
   "source": []
  },
  {
   "cell_type": "code",
   "execution_count": null,
   "id": "f0d264f4-9fc5-4827-93d3-a5f44bbc8840",
   "metadata": {},
   "outputs": [],
   "source": []
  },
  {
   "cell_type": "code",
   "execution_count": null,
   "id": "e639dc6d-9192-421f-811f-70360c968488",
   "metadata": {},
   "outputs": [],
   "source": []
  },
  {
   "cell_type": "code",
   "execution_count": null,
   "id": "04e4fef7-a57f-4386-adbf-59a3d069d063",
   "metadata": {},
   "outputs": [],
   "source": []
  },
  {
   "cell_type": "code",
   "execution_count": null,
   "id": "6729c808-98bd-440b-825c-a2f4e2bb63a8",
   "metadata": {},
   "outputs": [],
   "source": []
  },
  {
   "cell_type": "code",
   "execution_count": null,
   "id": "a66e4049-a4c9-4452-8d05-7d87ac9f2de0",
   "metadata": {},
   "outputs": [],
   "source": []
  },
  {
   "cell_type": "code",
   "execution_count": null,
   "id": "d352cfea-08ab-4eff-9f98-67a7ba5eab55",
   "metadata": {},
   "outputs": [],
   "source": []
  },
  {
   "cell_type": "code",
   "execution_count": null,
   "id": "e61fdb13-f407-49c7-81ca-f619fdebe55f",
   "metadata": {},
   "outputs": [],
   "source": []
  },
  {
   "cell_type": "code",
   "execution_count": null,
   "id": "14c5845d-6c7e-40c8-bfb2-852a004ffc45",
   "metadata": {},
   "outputs": [],
   "source": []
  },
  {
   "cell_type": "code",
   "execution_count": null,
   "id": "b79443d4-92a1-4f1f-8f12-294b60a94772",
   "metadata": {},
   "outputs": [],
   "source": []
  },
  {
   "cell_type": "code",
   "execution_count": null,
   "id": "be9cdddd-56d5-460c-999c-99e116fa4678",
   "metadata": {},
   "outputs": [],
   "source": []
  },
  {
   "cell_type": "code",
   "execution_count": null,
   "id": "ad21e285-ee5b-464d-9828-13222873b50a",
   "metadata": {},
   "outputs": [],
   "source": []
  },
  {
   "cell_type": "code",
   "execution_count": null,
   "id": "9f8cc86e-14a9-4a84-b63e-ac8c2974e25b",
   "metadata": {},
   "outputs": [],
   "source": []
  }
 ],
 "metadata": {
  "kernelspec": {
   "display_name": "Python 3 (ipykernel)",
   "language": "python",
   "name": "python3"
  },
  "language_info": {
   "codemirror_mode": {
    "name": "ipython",
    "version": 3
   },
   "file_extension": ".py",
   "mimetype": "text/x-python",
   "name": "python",
   "nbconvert_exporter": "python",
   "pygments_lexer": "ipython3",
   "version": "3.13.5"
  }
 },
 "nbformat": 4,
 "nbformat_minor": 5
}
