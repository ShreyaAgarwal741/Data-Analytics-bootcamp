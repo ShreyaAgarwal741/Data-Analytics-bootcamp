{
 "cells": [
  {
   "cell_type": "code",
   "execution_count": 2,
   "id": "b6c0bb7e-4aae-45bf-877d-419afb325b1a",
   "metadata": {},
   "outputs": [
    {
     "name": "stdin",
     "output_type": "stream",
     "text": [
      "enter your number 20\n",
      "enter your number 20\n"
     ]
    },
    {
     "name": "stdout",
     "output_type": "stream",
     "text": [
      "40\n",
      "0\n",
      "400\n",
      "0\n",
      "104857600000000000000000000\n",
      "1.0\n",
      "1\n"
     ]
    }
   ],
   "source": [
    "1 #Arithematic operator                                                                                                    DATE:07-07-2025\n",
    "a=int(input(\"enter your number\"))\n",
    "b=int(input(\"enter your number\"))\n",
    "print(a+b)\n",
    "print(a-b)\n",
    "print(a*b)\n",
    "print(a%b)\n",
    "print(a**b)\n",
    "print(a/b)\n",
    "print(a//b)"
   ]
  },
  {
   "cell_type": "code",
   "execution_count": null,
   "id": "e0391b7c-a70e-47ab-98e2-7b3b9c099720",
   "metadata": {},
   "outputs": [],
   "source": [
    "2 #Assignment operator\n",
    "=,+=,=+,=-,-=,etc"
   ]
  },
  {
   "cell_type": "code",
   "execution_count": 11,
   "id": "33ad28c9-1c41-42b0-be54-cb9b671b55a8",
   "metadata": {},
   "outputs": [
    {
     "name": "stdout",
     "output_type": "stream",
     "text": [
      "5\n",
      "10\n"
     ]
    }
   ],
   "source": [
    "a=5\n",
    "b=5\n",
    "a=+5\n",
    "b+=5\n",
    "print(a)\n",
    "print(b)"
   ]
  },
  {
   "cell_type": "code",
   "execution_count": null,
   "id": "c812f875-45af-4355-aa79-981353d9c48f",
   "metadata": {},
   "outputs": [],
   "source": [
    "3 #comparision operator\n",
    "<,>,<=,>=,==,!="
   ]
  },
  {
   "cell_type": "code",
   "execution_count": 7,
   "id": "28a5189a-2945-4303-8ae4-43be4391b41d",
   "metadata": {},
   "outputs": [
    {
     "name": "stdin",
     "output_type": "stream",
     "text": [
      "enter your choice 3\n",
      "enter your other choice 3\n"
     ]
    },
    {
     "name": "stdout",
     "output_type": "stream",
     "text": [
      "a equal to b\n"
     ]
    }
   ],
   "source": [
    "a=int(input(\"enter your choice\"))\n",
    "b=int(input(\"enter your other choice\"))\n",
    "if (a==b):\n",
    "    print(\"a equal to b\")\n",
    "else:\n",
    "    print(\"not equal\")"
   ]
  },
  {
   "cell_type": "code",
   "execution_count": null,
   "id": "cfa2af78-0d2e-411b-ac4d-234cf3d1a9ad",
   "metadata": {},
   "outputs": [],
   "source": [
    "4.logical operator\n",
    "and,or,not"
   ]
  },
  {
   "cell_type": "code",
   "execution_count": 11,
   "id": "dc8c9c1d-7168-4a3b-a7ed-86d122b20cab",
   "metadata": {},
   "outputs": [
    {
     "name": "stdin",
     "output_type": "stream",
     "text": [
      "enter number 10\n",
      "enter number 12\n",
      "enter number 22\n"
     ]
    },
    {
     "name": "stdout",
     "output_type": "stream",
     "text": [
      "False\n",
      "True\n",
      "False\n"
     ]
    }
   ],
   "source": [
    "a=int(input(\"enter number\"))\n",
    "b=int(input(\"enter number\"))\n",
    "c=int(input(\"enter number\"))\n",
    "print(a>b and a>c)\n",
    "print(a<b or c<b)\n",
    "print( not( c>b))\n",
    "\n",
    "    "
   ]
  },
  {
   "cell_type": "code",
   "execution_count": null,
   "id": "88821338-e658-494f-a363-a02c8af92b3e",
   "metadata": {},
   "outputs": [],
   "source": [
    "5.Membership operator\n",
    "in,not in"
   ]
  },
  {
   "cell_type": "code",
   "execution_count": 14,
   "id": "0551444c-d96f-4e05-b90d-f9ab9d4192b8",
   "metadata": {},
   "outputs": [
    {
     "name": "stdout",
     "output_type": "stream",
     "text": [
      "True\n"
     ]
    }
   ],
   "source": [
    "a=\"shreya\"\n",
    "print(\"s\" in a)"
   ]
  },
  {
   "cell_type": "code",
   "execution_count": 21,
   "id": "dcd6eaa8-831d-49d8-b5d7-2e201c822782",
   "metadata": {},
   "outputs": [
    {
     "ename": "SyntaxError",
     "evalue": "invalid decimal literal (3317017352.py, line 1)",
     "output_type": "error",
     "traceback": [
      "\u001b[1;36m  Cell \u001b[1;32mIn[21], line 1\u001b[1;36m\u001b[0m\n\u001b[1;33m    6.Bitwise  logical operator\u001b[0m\n\u001b[1;37m     ^\u001b[0m\n\u001b[1;31mSyntaxError\u001b[0m\u001b[1;31m:\u001b[0m invalid decimal literal\n"
     ]
    }
   ],
   "source": [
    "6.Bitwise  logical operator\n",
    "|,!,^,&,"
   ]
  },
  {
   "cell_type": "code",
   "execution_count": 19,
   "id": "3f822968-e5a0-4f07-aafa-89ef13de03e2",
   "metadata": {},
   "outputs": [
    {
     "name": "stdout",
     "output_type": "stream",
     "text": [
      "11\n",
      "2\n",
      "True\n",
      "9\n"
     ]
    }
   ],
   "source": [
    "a=10\n",
    "b=3\n",
    "print(a|b)\n",
    "print(a&b)\n",
    "print(a!=b)\n",
    "print(a^b)"
   ]
  },
  {
   "cell_type": "code",
   "execution_count": null,
   "id": "b120c89d-7faa-4255-bd54-d1c5e6fa641f",
   "metadata": {},
   "outputs": [],
   "source": [
    "7. Identity operator\n",
    "is,is not"
   ]
  },
  {
   "cell_type": "code",
   "execution_count": 26,
   "id": "96d812a5-1089-416d-ad63-2a414cbf21f5",
   "metadata": {},
   "outputs": [
    {
     "name": "stdout",
     "output_type": "stream",
     "text": [
      "False\n",
      "True\n"
     ]
    }
   ],
   "source": [
    "a=12\n",
    "b=5\n",
    "print(a is b)\n",
    "print(a is not b)"
   ]
  },
  {
   "cell_type": "code",
   "execution_count": null,
   "id": "9d920dc6-3157-4e28-b4e0-bf22b486564b",
   "metadata": {},
   "outputs": [],
   "source": [
    "#1.TYPE CONVERSION                                                                                                   DATE:9-7-2025"
   ]
  },
  {
   "cell_type": "code",
   "execution_count": 1,
   "id": "517b8027-ade4-4a50-9b0a-7c52aecf634e",
   "metadata": {},
   "outputs": [
    {
     "name": "stdout",
     "output_type": "stream",
     "text": [
      "<class 'float'>\n"
     ]
    }
   ],
   "source": [
    "#explicit conversion\n",
    "x=10\n",
    "y=float(x)\n",
    "print(type(y))"
   ]
  },
  {
   "cell_type": "code",
   "execution_count": 2,
   "id": "1334a2d5-428f-4f52-8282-f9e509c46b2f",
   "metadata": {},
   "outputs": [
    {
     "name": "stdout",
     "output_type": "stream",
     "text": [
      "<class 'float'>\n"
     ]
    }
   ],
   "source": [
    "#implicit conversion\n",
    "x=10\n",
    "y=10.5\n",
    "print(type(x+y))"
   ]
  },
  {
   "cell_type": "code",
   "execution_count": 7,
   "id": "f4cd675d-0f9d-4978-b1f7-b97e43440744",
   "metadata": {},
   "outputs": [
    {
     "name": "stdin",
     "output_type": "stream",
     "text": [
      "enter qty: 6\n",
      "enter price: 30\n",
      "enter product name: milk\n"
     ]
    },
    {
     "name": "stdout",
     "output_type": "stream",
     "text": [
      " Total bill of: 180.0 milk\n"
     ]
    }
   ],
   "source": [
    "#Q1\n",
    "qty=float(input(\"enter qty:\"))\n",
    "price=int(input(\"enter price:\"))\n",
    "pname=input(\"enter product name:\")\n",
    "bill=price*qty\n",
    "print(\" Total bill of:\",bill,pname)\n"
   ]
  },
  {
   "cell_type": "code",
   "execution_count": 5,
   "id": "82dfeaf4-0226-4999-a46c-8f5b75c020ed",
   "metadata": {},
   "outputs": [],
   "source": [
    "#2.control flow statement\n",
    "#if statement\n",
    "a=10\n",
    "if a>15:\n",
    "    print(\"hello\")"
   ]
  },
  {
   "cell_type": "code",
   "execution_count": 8,
   "id": "b2dc6ddf-5121-48fa-be7d-a91442db04a5",
   "metadata": {},
   "outputs": [
    {
     "name": "stdout",
     "output_type": "stream",
     "text": [
      "bye\n"
     ]
    }
   ],
   "source": [
    "#else\n",
    "a=10\n",
    "if a>15:\n",
    "    print(\"hello\")\n",
    "else:\n",
    "    print(\"bye\")"
   ]
  },
  {
   "cell_type": "code",
   "execution_count": 9,
   "id": "e56dc01d-17f5-46bb-b134-fc0dc8b3af4a",
   "metadata": {},
   "outputs": [
    {
     "name": "stdin",
     "output_type": "stream",
     "text": [
      "enter a number 4\n"
     ]
    },
    {
     "name": "stdout",
     "output_type": "stream",
     "text": [
      "number is positive\n"
     ]
    }
   ],
   "source": [
    "#Q2 negative and psitive(assignment 2)\n",
    "a=int(input(\"enter a number\"))\n",
    "if a>0:\n",
    "    print(\"number is positive\")\n",
    "else:\n",
    "    print(\"number is negative\")"
   ]
  },
  {
   "cell_type": "code",
   "execution_count": 10,
   "id": "7a2732df-a5ec-4c0d-bdfd-9f3c8867e34a",
   "metadata": {},
   "outputs": [
    {
     "name": "stdin",
     "output_type": "stream",
     "text": [
      "enter your age 18\n"
     ]
    },
    {
     "name": "stdout",
     "output_type": "stream",
     "text": [
      "eligible to vote\n"
     ]
    }
   ],
   "source": [
    "#Q3 eligible to vote\n",
    "a=int(input(\"enter your age\"))\n",
    "if a>=18:\n",
    "    print(\"eligible to vote\")\n",
    "else:\n",
    "    print(\"not eligible\")"
   ]
  },
  {
   "cell_type": "code",
   "execution_count": 1,
   "id": "f7bd8ef8-4ac9-4ccb-9fc4-974d25856f64",
   "metadata": {},
   "outputs": [
    {
     "name": "stdin",
     "output_type": "stream",
     "text": [
      "enter a number 4\n"
     ]
    },
    {
     "name": "stdout",
     "output_type": "stream",
     "text": [
      "number is even\n"
     ]
    }
   ],
   "source": [
    "#Q4 evenodd\n",
    "a=int(input(\"enter a number\"))\n",
    "if a%2==0:\n",
    "    print(\"number is even\")\n",
    "else:\n",
    "    print(\"number is odd\")"
   ]
  },
  {
   "cell_type": "code",
   "execution_count": 2,
   "id": "e5e9e561-702b-477f-9b3a-a5f535b1ab54",
   "metadata": {},
   "outputs": [
    {
     "name": "stdin",
     "output_type": "stream",
     "text": [
      "enter a string shreya\n"
     ]
    },
    {
     "name": "stdout",
     "output_type": "stream",
     "text": [
      "greater than 5\n"
     ]
    }
   ],
   "source": [
    "#Q5 length\n",
    "str=input(\"enter a string\")\n",
    "l=len(str)\n",
    "if l>5:\n",
    "    print(\"greater than 5\")\n",
    "    "
   ]
  },
  {
   "cell_type": "code",
   "execution_count": 3,
   "id": "62765889-759f-48b8-b27c-45059a2d230d",
   "metadata": {},
   "outputs": [
    {
     "name": "stdin",
     "output_type": "stream",
     "text": [
      "enter your marks: 100\n"
     ]
    },
    {
     "name": "stdout",
     "output_type": "stream",
     "text": [
      "pass\n"
     ]
    }
   ],
   "source": [
    "#Q6 pass fail\n",
    "marks=int(input(\"enter your marks:\"))\n",
    "if marks>=40:\n",
    "    print(\"pass\")\n",
    "else:\n",
    "    print(\"fail\")"
   ]
  },
  {
   "cell_type": "code",
   "execution_count": 9,
   "id": "8352721a-5d8e-4ff9-885d-9f6b706be7f3",
   "metadata": {},
   "outputs": [
    {
     "name": "stdin",
     "output_type": "stream",
     "text": [
      "enter a month: july\n"
     ]
    },
    {
     "name": "stdout",
     "output_type": "stream",
     "text": [
      "rainy\n"
     ]
    }
   ],
   "source": [
    "#elif\n",
    "mon=input(\"enter a month:\")\n",
    "if mon=='december' or mon=='january' or mon=='febuary':\n",
    "    print(\"season is winter\")\n",
    "elif mon=='march':\n",
    "    print(\"spring\")\n",
    "elif mon=='may' or mon=='april' or mon=='june':\n",
    "    print(\"summer\")\n",
    "elif mon=='july' or mon=='august' or mon=='september':\n",
    "    print(\"rainy\")\n",
    "else:\n",
    "    print(\"month is autumn\")"
   ]
  },
  {
   "cell_type": "code",
   "execution_count": 10,
   "id": "1f004aed-38a6-43a5-8352-b604038a7db5",
   "metadata": {},
   "outputs": [
    {
     "name": "stdin",
     "output_type": "stream",
     "text": [
      "enter your vechical: car\n"
     ]
    },
    {
     "name": "stdout",
     "output_type": "stream",
     "text": [
      "vechical expiry is 10years\n"
     ]
    }
   ],
   "source": [
    "#vechile expire or not\n",
    "vec=input(\"enter your vechical:\")\n",
    "if vec=='motor bike':\n",
    "    print(\"vechical expiry is 15 year\")\n",
    "elif vec=='car':\n",
    "    print(\"vechical expiry is 10years\")\n",
    "else:\n",
    "    print(\"unknown vechical\")"
   ]
  },
  {
   "cell_type": "code",
   "execution_count": null,
   "id": "2ac71892-cbcb-41ad-8318-67bf2b1a6743",
   "metadata": {},
   "outputs": [],
   "source": [
    "#looping statement\n",
    "1.while/entry control loop\n",
    "2.for\n"
   ]
  },
  {
   "cell_type": "code",
   "execution_count": 1,
   "id": "94f70324-7c82-4441-9156-4531ed7dcc4c",
   "metadata": {},
   "outputs": [
    {
     "name": "stdout",
     "output_type": "stream",
     "text": [
      "2\n",
      "4\n",
      "6\n",
      "8\n",
      "10\n",
      "12\n",
      "14\n",
      "16\n",
      "18\n",
      "20\n"
     ]
    }
   ],
   "source": [
    "#while loop\n",
    "i=1\n",
    "n=2\n",
    "while i<=10:\n",
    "    print(n*i)\n",
    "    i=i+1\n"
   ]
  },
  {
   "cell_type": "code",
   "execution_count": null,
   "id": "b1355678-062d-4120-9317-8c40e8107cd2",
   "metadata": {},
   "outputs": [],
   "source": []
  },
  {
   "cell_type": "code",
   "execution_count": null,
   "id": "2228d7fb-0146-49c7-bf8d-6648d21b11f2",
   "metadata": {},
   "outputs": [],
   "source": []
  },
  {
   "cell_type": "code",
   "execution_count": null,
   "id": "df5c9308-ca2b-415e-a1b0-9c466809e4ea",
   "metadata": {},
   "outputs": [],
   "source": []
  },
  {
   "cell_type": "code",
   "execution_count": null,
   "id": "96b388be-6e63-45de-9707-2fa5856d2f82",
   "metadata": {},
   "outputs": [],
   "source": []
  },
  {
   "cell_type": "code",
   "execution_count": null,
   "id": "665f9392-6a6a-4c5a-bc6f-ef645d533569",
   "metadata": {},
   "outputs": [],
   "source": []
  },
  {
   "cell_type": "code",
   "execution_count": null,
   "id": "c0d35de0-790d-4f38-a6cd-2bdbb1934b81",
   "metadata": {},
   "outputs": [],
   "source": []
  }
 ],
 "metadata": {
  "kernelspec": {
   "display_name": "Python 3 (ipykernel)",
   "language": "python",
   "name": "python3"
  },
  "language_info": {
   "codemirror_mode": {
    "name": "ipython",
    "version": 3
   },
   "file_extension": ".py",
   "mimetype": "text/x-python",
   "name": "python",
   "nbconvert_exporter": "python",
   "pygments_lexer": "ipython3",
   "version": "3.13.5"
  }
 },
 "nbformat": 4,
 "nbformat_minor": 5
}
