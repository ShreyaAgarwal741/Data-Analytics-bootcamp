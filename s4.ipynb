{
 "cells": [
  {
   "cell_type": "code",
   "execution_count": 2,
   "id": "95405ae7-b4ea-4836-a99a-2b65ccb7fbbb",
   "metadata": {},
   "outputs": [
    {
     "name": "stdin",
     "output_type": "stream",
     "text": [
      "enter string: shreya\n"
     ]
    },
    {
     "name": "stdout",
     "output_type": "stream",
     "text": [
      "ayerhs\n"
     ]
    }
   ],
   "source": [
    "#palindrom\n",
    "def pal():\n",
    "    str=input(\"enter string:\")\n",
    "    rev=str[::-1]\n",
    "    print(rev)\n",
    "pal()"
   ]
  },
  {
   "cell_type": "code",
   "execution_count": 6,
   "id": "7170c83d-f93b-4982-af18-9863f1d7310e",
   "metadata": {},
   "outputs": [
    {
     "ename": "NameError",
     "evalue": "name 'shreya' is not defined",
     "output_type": "error",
     "traceback": [
      "\u001b[1;31m---------------------------------------------------------------------------\u001b[0m",
      "\u001b[1;31mNameError\u001b[0m                                 Traceback (most recent call last)",
      "Cell \u001b[1;32mIn[6], line 8\u001b[0m\n\u001b[0;32m      6\u001b[0m         index\u001b[38;5;241m-\u001b[39m\u001b[38;5;241m=\u001b[39m\u001b[38;5;241m1\u001b[39m\n\u001b[0;32m      7\u001b[0m         \u001b[38;5;28;01mreturn\u001b[39;00m reversed_str\n\u001b[1;32m----> 8\u001b[0m rev(shreya)\n",
      "\u001b[1;31mNameError\u001b[0m: name 'shreya' is not defined"
     ]
    }
   ],
   "source": [
    "def rev(s):\n",
    "    reversed_str=1\n",
    "    index=len(s)-1\n",
    "    while index>=0:\n",
    "        reversed_str+=s[index]\n",
    "        index-=1\n",
    "        return reversed_str\n",
    "rev(shreya)"
   ]
  },
  {
   "cell_type": "code",
   "execution_count": 7,
   "id": "e4ab70c1-f914-4547-b156-2b7f4dc2646d",
   "metadata": {},
   "outputs": [
    {
     "name": "stdout",
     "output_type": "stream",
     "text": [
      "p\n",
      "y\n",
      "t\n",
      "h\n"
     ]
    }
   ],
   "source": [
    "a=\"python programming\"\n",
    "i=a[0]\n",
    "for i in range(len(a)):\n",
    "    if a[i]=='o':\n",
    "        continue\n",
    "    elif a[i]=='n':\n",
    "        break\n",
    "    else:\n",
    "        print(a[i])"
   ]
  },
  {
   "cell_type": "code",
   "execution_count": 9,
   "id": "2e224d9a-b164-48a6-810c-1290ff4e33dc",
   "metadata": {},
   "outputs": [
    {
     "name": "stdout",
     "output_type": "stream",
     "text": [
      "True\n"
     ]
    }
   ],
   "source": [
    "print(4!=5)"
   ]
  },
  {
   "cell_type": "code",
   "execution_count": 11,
   "id": "7935e40c-deeb-4a4e-8923-358b035c4622",
   "metadata": {},
   "outputs": [
    {
     "name": "stdout",
     "output_type": "stream",
     "text": [
      "Hello,World!\n"
     ]
    }
   ],
   "source": [
    "print(\"Hello,World!\")"
   ]
  },
  {
   "cell_type": "code",
   "execution_count": 12,
   "id": "92e26b3d-041b-44b1-b16f-6808aaeb64c2",
   "metadata": {},
   "outputs": [
    {
     "name": "stdout",
     "output_type": "stream",
     "text": [
      "1\n",
      "2\n",
      "3\n",
      "4\n",
      "5\n",
      "6\n",
      "7\n",
      "8\n",
      "9\n",
      "10\n"
     ]
    }
   ],
   "source": [
    "i=1\n",
    "while i<=10:\n",
    "     print(i)\n",
    "     i+=1"
   ]
  },
  {
   "cell_type": "code",
   "execution_count": 13,
   "id": "faf3c4aa-4841-40a2-ba0d-9bbd478e4e2f",
   "metadata": {},
   "outputs": [
    {
     "name": "stdin",
     "output_type": "stream",
     "text": [
      "enter a number 5\n"
     ]
    },
    {
     "name": "stdout",
     "output_type": "stream",
     "text": [
      "factorial is: 20\n",
      "factorial is: 20\n",
      "factorial is: 20\n",
      "factorial is: 20\n",
      "factorial is: 20\n"
     ]
    }
   ],
   "source": [
    "n=int(input(\"enter a number\"))\n",
    "i=n-1\n",
    "for i in range(1,6):\n",
    "    fact=n*(n-1)\n",
    "    print(\"factorial is:\",fact)"
   ]
  },
  {
   "cell_type": "code",
   "execution_count": 17,
   "id": "b35fbd7e-6d3f-454a-8de9-d68bd34f0569",
   "metadata": {},
   "outputs": [
    {
     "name": "stdin",
     "output_type": "stream",
     "text": [
      "enter a string: shreya\n"
     ]
    }
   ],
   "source": [
    "a=input(\"enter a string:\")\n",
    "cnt=0\n",
    "if a=='a' or a=='A' or  a=='e' or  a=='E' or  a=='i' or  a=='I' or  a=='o' or  a=='O' or  a=='u' or a=='U':\n",
    "    print(\"number of vowels are:\",cnt)\n",
    "    cnt+=1"
   ]
  },
  {
   "cell_type": "code",
   "execution_count": null,
   "id": "0b5e403b-027b-46c2-8697-6d8d0978f20b",
   "metadata": {},
   "outputs": [],
   "source": []
  },
  {
   "cell_type": "code",
   "execution_count": null,
   "id": "1b2510e7-1103-4c12-9777-e1c2bed6b1a2",
   "metadata": {},
   "outputs": [],
   "source": []
  },
  {
   "cell_type": "code",
   "execution_count": null,
   "id": "86f6e402-17a3-4c9c-adc7-e12d69a8a9a6",
   "metadata": {},
   "outputs": [],
   "source": []
  }
 ],
 "metadata": {
  "kernelspec": {
   "display_name": "Python 3 (ipykernel)",
   "language": "python",
   "name": "python3"
  },
  "language_info": {
   "codemirror_mode": {
    "name": "ipython",
    "version": 3
   },
   "file_extension": ".py",
   "mimetype": "text/x-python",
   "name": "python",
   "nbconvert_exporter": "python",
   "pygments_lexer": "ipython3",
   "version": "3.13.5"
  }
 },
 "nbformat": 4,
 "nbformat_minor": 5
}
