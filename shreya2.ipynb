{
 "cells": [
  {
   "cell_type": "code",
   "execution_count": null,
   "id": "b6c0bb7e-4aae-45bf-877d-419afb325b1a",
   "metadata": {},
   "outputs": [],
   "source": [
    "DATE:11-07-2025"
   ]
  },
  {
   "cell_type": "code",
   "execution_count": 11,
   "id": "ca56530d-9b13-4704-b293-eb92439c5386",
   "metadata": {},
   "outputs": [
    {
     "name": "stdin",
     "output_type": "stream",
     "text": [
      "type 'q' to quit: a\n"
     ]
    },
    {
     "name": "stdout",
     "output_type": "stream",
     "text": [
      "you type: a\n"
     ]
    },
    {
     "name": "stdin",
     "output_type": "stream",
     "text": [
      "type 'q' to quit: q\n"
     ]
    },
    {
     "name": "stdout",
     "output_type": "stream",
     "text": [
      "exit loop\n"
     ]
    }
   ],
   "source": [
    "#loop\n",
    "while True:\n",
    "    a=input(\"type 'q' to quit:\")\n",
    "    if a==\"q\":\n",
    "        print(\"exit loop\")\n",
    "        break\n",
    "    else:\n",
    "        print(\"you type:\",a)\n",
    "    "
   ]
  },
  {
   "cell_type": "code",
   "execution_count": 22,
   "id": "87021f11-bf55-4c18-82de-e2b648d99e0b",
   "metadata": {},
   "outputs": [
    {
     "name": "stdin",
     "output_type": "stream",
     "text": [
      "enter password 1236780\n"
     ]
    },
    {
     "name": "stdout",
     "output_type": "stream",
     "text": [
      "wrong password!,2 att left\n"
     ]
    },
    {
     "name": "stdin",
     "output_type": "stream",
     "text": [
      "enter password 12\n"
     ]
    },
    {
     "name": "stdout",
     "output_type": "stream",
     "text": [
      "wrong password!,1 att left\n"
     ]
    },
    {
     "name": "stdin",
     "output_type": "stream",
     "text": [
      "enter password 12345678\n"
     ]
    },
    {
     "name": "stdout",
     "output_type": "stream",
     "text": [
      "access granted\n"
     ]
    }
   ],
   "source": [
    "#validation of pswd\n",
    "digit=12345678\n",
    "att=3\n",
    "while att>0:\n",
    "    a=int(input(\"enter password\"))\n",
    "    if a == digit:\n",
    "        print(\"access granted\")\n",
    "        break\n",
    "    else:\n",
    "        att-=1\n",
    "        print(f\"wrong password!,{att} att left\")\n",
    "    "
   ]
  },
  {
   "cell_type": "code",
   "execution_count": null,
   "id": "c60c8006-0f8f-4419-87fb-27c8834aba13",
   "metadata": {},
   "outputs": [],
   "source": [
    "#divisible by 7\n",
    "i=1\n",
    "while i<=100:\n",
    "    if i%7==0:\n",
    "        print(i)\n",
    "        i+=1"
   ]
  },
  {
   "cell_type": "code",
   "execution_count": null,
   "id": "13119021-6329-436e-ab13-9b702f1d28d4",
   "metadata": {},
   "outputs": [],
   "source": [
    "#for loop\n",
    "pwd=12345678\n",
    "att=3\n",
    "for att in range(1,4):\n",
    "    a=int(input(\"enter your pwd:\"))\n",
    "    if a==pwd:\n",
    "        print(\"access granted\")\n",
    "        break\n",
    "    else:\n",
    "         att-=1\n",
    "        print(f\"wrong password!,{2-att} att left\")"
   ]
  },
  {
   "cell_type": "code",
   "execution_count": null,
   "id": "f23f5ab9-3f14-42cd-b1f0-07b92412cd80",
   "metadata": {},
   "outputs": [],
   "source": [
    "#continue\n",
    "for i in range(1,6):\n",
    "    if i==3:\n",
    "        continue\n",
    "    print(i)"
   ]
  },
  {
   "cell_type": "code",
   "execution_count": null,
   "id": "265071e0-201e-469a-bb9f-856c2b8026f2",
   "metadata": {},
   "outputs": [],
   "source": [
    "for i in range(1,11):\n",
    "    if i==5:\n",
    "        continue\n",
    "    if i==8:\n",
    "        break\n",
    "    print(i)"
   ]
  },
  {
   "cell_type": "code",
   "execution_count": null,
   "id": "5fce6d53-3ddb-4cd6-9dc0-adb5d95359d5",
   "metadata": {},
   "outputs": [],
   "source": [
    "a=\"python programming\"\n",
    "i=a[0]\n",
    "for i in range(len(a)):\n",
    "    if a[i]=='o':\n",
    "        continue\n",
    "    elif a[i]=='n':\n",
    "        break\n",
    "    else:\n",
    "        print(a[i])"
   ]
  },
  {
   "cell_type": "code",
   "execution_count": null,
   "id": "8b704280-a959-4ca1-b1bb-ad3748bfca1b",
   "metadata": {},
   "outputs": [],
   "source": [
    "\n"
   ]
  },
  {
   "cell_type": "code",
   "execution_count": null,
   "id": "74d9ba36-d571-44f9-ab25-5e6ace523ba4",
   "metadata": {},
   "outputs": [],
   "source": []
  },
  {
   "cell_type": "code",
   "execution_count": null,
   "id": "02a94d23-291c-4093-aceb-238fa91d519b",
   "metadata": {},
   "outputs": [],
   "source": []
  },
  {
   "cell_type": "code",
   "execution_count": null,
   "id": "5d4f0e10-e196-4dc8-955a-a1fa8833a1ae",
   "metadata": {},
   "outputs": [],
   "source": []
  },
  {
   "cell_type": "code",
   "execution_count": null,
   "id": "8b8409ae-e8ec-48f5-ad4e-7a911707902a",
   "metadata": {},
   "outputs": [],
   "source": []
  },
  {
   "cell_type": "code",
   "execution_count": null,
   "id": "108dcbec-63eb-45f8-8320-6426dbc2dee9",
   "metadata": {},
   "outputs": [],
   "source": []
  },
  {
   "cell_type": "code",
   "execution_count": null,
   "id": "63bd3b04-3a46-4ee7-8e0b-a10b2612a815",
   "metadata": {},
   "outputs": [],
   "source": []
  },
  {
   "cell_type": "code",
   "execution_count": null,
   "id": "2d406eb7-351b-4b71-bcdd-c874cf1ee7c7",
   "metadata": {},
   "outputs": [],
   "source": []
  },
  {
   "cell_type": "code",
   "execution_count": null,
   "id": "71d13405-ab63-4402-a89a-47a59f2b93f8",
   "metadata": {},
   "outputs": [],
   "source": []
  },
  {
   "cell_type": "code",
   "execution_count": null,
   "id": "fd0f0636-eda4-4ccb-b93a-09d281c50317",
   "metadata": {},
   "outputs": [],
   "source": []
  },
  {
   "cell_type": "code",
   "execution_count": null,
   "id": "a64f83c6-2761-4b9c-8728-544d8fd958a0",
   "metadata": {},
   "outputs": [],
   "source": []
  }
 ],
 "metadata": {
  "kernelspec": {
   "display_name": "Python 3 (ipykernel)",
   "language": "python",
   "name": "python3"
  },
  "language_info": {
   "codemirror_mode": {
    "name": "ipython",
    "version": 3
   },
   "file_extension": ".py",
   "mimetype": "text/x-python",
   "name": "python",
   "nbconvert_exporter": "python",
   "pygments_lexer": "ipython3",
   "version": "3.13.5"
  }
 },
 "nbformat": 4,
 "nbformat_minor": 5
}
