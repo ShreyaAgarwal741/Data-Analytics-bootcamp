{
 "cells": [
  {
   "cell_type": "code",
   "execution_count": null,
   "id": "5ba9d95a-f6cb-4193-8f2a-03a23e8f0656",
   "metadata": {},
   "outputs": [],
   "source": [
    "def Vowcount():\n",
    "    count=0\n",
    "    s1=input(\"enter any string\")\n",
    "    word=s1.split()\n",
    "    for i in word:\n",
    "        if i[0] in ['a','e','i','o','u'] or i[0] in ['A','E','I','O','U']:\n",
    "            count+=1\n",
    "            print(i)\n",
    "    print(\"vowelwords:\",count)\n",
    "Vowcount()"
   ]
  },
  {
   "cell_type": "code",
   "execution_count": 10,
   "id": "3c2cf695-b8fe-4bc1-80e3-24c58d50e8e6",
   "metadata": {},
   "outputs": [
    {
     "name": "stdout",
     "output_type": "stream",
     "text": [
      "200.0\n"
     ]
    }
   ],
   "source": [
    "#function to print simple interest\n",
    "def si(p,r,t):\n",
    "    print((p*r*t)/100)\n",
    "si(1000,10,2)"
   ]
  },
  {
   "cell_type": "code",
   "execution_count": 15,
   "id": "c7222b61-20db-48de-b8e7-5b4779fd7194",
   "metadata": {},
   "outputs": [
    {
     "name": "stdout",
     "output_type": "stream",
     "text": [
      "2*1=2\n",
      "2*2=4\n",
      "2*3=6\n",
      "2*4=8\n",
      "2*5=10\n",
      "2*6=12\n",
      "2*7=14\n",
      "2*8=16\n",
      "2*9=18\n",
      "2*10=20\n"
     ]
    }
   ],
   "source": [
    "#function to print table\n",
    "def tables(n):\n",
    "    for i in range(1,11):\n",
    "        print(f\"{n}*{i}={n*(i)}\")\n",
    "tables(2)"
   ]
  },
  {
   "cell_type": "code",
   "execution_count": 21,
   "id": "c9156a38-5b96-40ce-9594-141b807dd6ab",
   "metadata": {},
   "outputs": [
    {
     "name": "stdout",
     "output_type": "stream",
     "text": [
      "1275\n"
     ]
    }
   ],
   "source": [
    "#function to print natural number\n",
    "def nsum():\n",
    "    sum=0\n",
    "    for i in range(1,51):\n",
    "       sum+=i\n",
    "    print(sum)\n",
    "nsum()"
   ]
  },
  {
   "cell_type": "code",
   "execution_count": 23,
   "id": "65d9b3a1-31e1-411c-8843-0fb4bf917601",
   "metadata": {},
   "outputs": [
    {
     "name": "stdout",
     "output_type": "stream",
     "text": [
      "1\n",
      "4\n",
      "9\n",
      "16\n",
      "25\n",
      "36\n",
      "49\n",
      "64\n",
      "81\n",
      "100\n",
      "121\n",
      "144\n",
      "169\n",
      "196\n",
      "225\n",
      "256\n",
      "289\n",
      "324\n",
      "361\n",
      "400\n",
      "441\n",
      "484\n",
      "529\n",
      "576\n",
      "625\n",
      "625\n"
     ]
    }
   ],
   "source": [
    "#function to print sum of odd number\n",
    "def oddsum():\n",
    "    sum=0\n",
    "    for i in range(1,51):\n",
    "        if i%2!=0:\n",
    "            sum+=i\n",
    "            print(sum)\n",
    "    print(sum)\n",
    "oddsum()"
   ]
  },
  {
   "cell_type": "code",
   "execution_count": 24,
   "id": "76587995-538e-49a0-ac79-7e942a0cd6d6",
   "metadata": {},
   "outputs": [
    {
     "ename": "ZeroDivisionError",
     "evalue": "division by zero",
     "output_type": "error",
     "traceback": [
      "\u001b[1;31m---------------------------------------------------------------------------\u001b[0m",
      "\u001b[1;31mZeroDivisionError\u001b[0m                         Traceback (most recent call last)",
      "Cell \u001b[1;32mIn[24], line 1\u001b[0m\n\u001b[1;32m----> 1\u001b[0m \u001b[38;5;28mprint\u001b[39m(\u001b[38;5;241m10\u001b[39m\u001b[38;5;241m/\u001b[39m\u001b[38;5;241m0\u001b[39m)\n",
      "\u001b[1;31mZeroDivisionError\u001b[0m: division by zero"
     ]
    }
   ],
   "source": [
    "print(10/0)"
   ]
  },
  {
   "cell_type": "code",
   "execution_count": 1,
   "id": "cae0a7ce-7631-4d4a-bbef-cf42579b44aa",
   "metadata": {},
   "outputs": [
    {
     "name": "stdout",
     "output_type": "stream",
     "text": [
      "ayerhs"
     ]
    }
   ],
   "source": [
    "#palindrome\n",
    "def reverse(string):\n",
    "    i=len(string)-1\n",
    "    while i>=0:\n",
    "        print(string[i],end=\"\")\n",
    "        i-=1\n",
    "reverse(\"shreya\")"
   ]
  },
  {
   "cell_type": "code",
   "execution_count": 1,
   "id": "53e36fef-ef23-4367-b5d9-30ae5a485497",
   "metadata": {},
   "outputs": [
    {
     "name": "stdout",
     "output_type": "stream",
     "text": [
      "120\n"
     ]
    }
   ],
   "source": [
    "#factorial using function\n",
    "#Write a recursive function to calculate factorial of a number.\n",
    "def factorial(n):\n",
    "    if n==1:\n",
    "        return 1\n",
    "    return n*factorial(n-1)\n",
    "print(factorial(5))\n"
   ]
  },
  {
   "cell_type": "code",
   "execution_count": 3,
   "id": "6eff8ee4-8562-4433-aa21-26aed7eb45a4",
   "metadata": {},
   "outputs": [
    {
     "data": {
      "text/plain": [
       "15"
      ]
     },
     "execution_count": 3,
     "metadata": {},
     "output_type": "execute_result"
    }
   ],
   "source": [
    "#anonymous function\n",
    "add=lambda n1,n2:n1+n2\n",
    "add(12,3)"
   ]
  },
  {
   "cell_type": "code",
   "execution_count": 4,
   "id": "e8361d63-54f6-47cd-ad3f-408cc2384d64",
   "metadata": {},
   "outputs": [
    {
     "data": {
      "text/plain": [
       "40"
      ]
     },
     "execution_count": 4,
     "metadata": {},
     "output_type": "execute_result"
    }
   ],
   "source": [
    "#return statement\n",
    "def add(a,b):\n",
    "    c=a+b\n",
    "    return c\n",
    "add(10,30)"
   ]
  },
  {
   "cell_type": "code",
   "execution_count": 5,
   "id": "ca93c7a0-10c1-4852-8d09-d8b13f04ab96",
   "metadata": {},
   "outputs": [
    {
     "name": "stdout",
     "output_type": "stream",
     "text": [
      "25\n"
     ]
    }
   ],
   "source": [
    "def square(n):\n",
    "    sq=n*n\n",
    "    print(sq)\n",
    "square(5)"
   ]
  },
  {
   "cell_type": "code",
   "execution_count": 6,
   "id": "d29cd617-57bf-4df3-8bba-1efbeb81cdd6",
   "metadata": {},
   "outputs": [
    {
     "data": {
      "text/plain": [
       "30"
      ]
     },
     "execution_count": 6,
     "metadata": {},
     "output_type": "execute_result"
    }
   ],
   "source": [
    "def add(a,b):\n",
    "    sum=a+b\n",
    "    return sum\n",
    "add(20,10)"
   ]
  },
  {
   "cell_type": "code",
   "execution_count": 9,
   "id": "f4ab2b16-710d-42c8-8a25-47b0eb691d7c",
   "metadata": {},
   "outputs": [
    {
     "name": "stdout",
     "output_type": "stream",
     "text": [
      "number is even\n"
     ]
    }
   ],
   "source": [
    "#Write a function to check whether a number is even or odd.\n",
    "def even(n):\n",
    "    if n%2==0:\n",
    "        print(\"number is even\")\n",
    "    else:\n",
    "        print(\"number is odd\")\n",
    "even(20)"
   ]
  },
  {
   "cell_type": "code",
   "execution_count": 10,
   "id": "7d0e087b-cf03-4e93-8ffd-3f3d02fc2674",
   "metadata": {},
   "outputs": [
    {
     "name": "stdout",
     "output_type": "stream",
     "text": [
      "b is greater\n"
     ]
    }
   ],
   "source": [
    "#print largest among 2\n",
    "def largest(a,b):\n",
    "    if a>b:\n",
    "        print(\"a is greater\")\n",
    "    else:\n",
    "        print(\"b is greater\")\n",
    "largest(20,60)"
   ]
  },
  {
   "cell_type": "code",
   "execution_count": 12,
   "id": "3278c4c6-96a2-4721-9f5a-c92906014e80",
   "metadata": {},
   "outputs": [
    {
     "name": "stdout",
     "output_type": "stream",
     "text": [
      "1 2 3 5 8 13 21 34 55 89 \n"
     ]
    }
   ],
   "source": [
    "#print fibonachi series\n",
    "def fibo():\n",
    "    n = 10\n",
    "    a = 0\n",
    "    b = 1\n",
    "    next = b\n",
    "    count = 1\n",
    "    while count <= n:\n",
    "        print(next, end=\" \")\n",
    "        count += 1\n",
    "        a, b = b, next\n",
    "        next = a + b\n",
    "    print()\n",
    "fibo()  "
   ]
  },
  {
   "cell_type": "code",
   "execution_count": 1,
   "id": "643de118-e8ca-4b91-bb82-4327af0b8451",
   "metadata": {},
   "outputs": [
    {
     "name": "stdout",
     "output_type": "stream",
     "text": [
      "5\n"
     ]
    }
   ],
   "source": [
    "#return statement\n",
    "def add(x, y=2):\n",
    "    return x + y\n",
    "\n",
    "print(add(3))"
   ]
  },
  {
   "cell_type": "code",
   "execution_count": 2,
   "id": "299a9c8c-6253-4843-9587-4516163621ad",
   "metadata": {},
   "outputs": [
    {
     "name": "stdin",
     "output_type": "stream",
     "text": [
      "enter a number 50\n",
      "enter a number 25\n"
     ]
    },
    {
     "data": {
      "text/plain": [
       "37.5"
      ]
     },
     "execution_count": 2,
     "metadata": {},
     "output_type": "execute_result"
    }
   ],
   "source": [
    "# Write a function that takes two numbers and returns their average.\n",
    "def avg():\n",
    "    a=int(input(\"enter a number\"))\n",
    "    b=int(input(\"enter a number\"))\n",
    "    average=(a+b)/2\n",
    "    return average\n",
    "avg()"
   ]
  },
  {
   "cell_type": "code",
   "execution_count": 3,
   "id": "81f8c779-25ff-4cd3-b0aa-13b9603645d7",
   "metadata": {},
   "outputs": [
    {
     "name": "stdout",
     "output_type": "stream",
     "text": [
      "0\n",
      "0\n",
      "0\n",
      "1\n",
      "1\n",
      "2\n"
     ]
    }
   ],
   "source": [
    "#Write a function to count the number of vowels in a given string.\n",
    "def vowcount(string):\n",
    "    vowel=0\n",
    "    for i in string:\n",
    "        if i in['a','i','o','u','e','A','I','E','O','U']:\n",
    "            vowel+=1\n",
    "        print(vowel)\n",
    "vowcount(\"Shreya\")"
   ]
  },
  {
   "cell_type": "code",
   "execution_count": 5,
   "id": "0bfc0c80-9216-4b86-aeb6-31a39024c600",
   "metadata": {},
   "outputs": [
    {
     "name": "stdin",
     "output_type": "stream",
     "text": [
      "enter a number 4\n"
     ]
    },
    {
     "data": {
      "text/plain": [
       "16"
      ]
     },
     "execution_count": 5,
     "metadata": {},
     "output_type": "execute_result"
    }
   ],
   "source": [
    "#Create a lambda function to square a number. Take input from user.\n",
    "square = lambda x: x ** 2\n",
    "x=int(input(\"enter a number\"))\n",
    "square(x)"
   ]
  },
  {
   "cell_type": "code",
   "execution_count": 7,
   "id": "060bef30-8899-4c71-a16d-d5b88db153e7",
   "metadata": {},
   "outputs": [
    {
     "name": "stdin",
     "output_type": "stream",
     "text": [
      "enter a number 12\n",
      "enter a number 0\n"
     ]
    },
    {
     "name": "stdout",
     "output_type": "stream",
     "text": [
      "can't divide by zero\n",
      "the end\n"
     ]
    }
   ],
   "source": [
    "#exception handling\n",
    "try:\n",
    "   a=int(input(\"enter a number\"))\n",
    "   b=int(input(\"enter a number\"))\n",
    "   c=a/b\n",
    "except ZeroDivisionError:\n",
    "    print(\"can't divide by zero\")\n",
    "else:\n",
    "    print(f\"Result:{c}\")\n",
    "finally:\n",
    "    print(\"the end\")"
   ]
  },
  {
   "cell_type": "code",
   "execution_count": 8,
   "id": "eb78ea64-1144-41f9-929f-79d8798b8ac9",
   "metadata": {},
   "outputs": [
    {
     "name": "stdin",
     "output_type": "stream",
     "text": [
      "Enter a number:  4\n"
     ]
    },
    {
     "name": "stdout",
     "output_type": "stream",
     "text": [
      "4 is not a prime number\n"
     ]
    }
   ],
   "source": [
    "#code to print prime number\n",
    "num = int(input(\"Enter a number: \"))\n",
    "flag = False\n",
    "if num == 0 or num == 1:\n",
    "    print(num, \"is not a prime number\")\n",
    "elif num > 1:\n",
    "    for i in range(2, num):\n",
    "        if (num % i) == 0:\n",
    "            flag = True\n",
    "            break\n",
    "    if flag:\n",
    "        print(num, \"is not a prime number\")\n",
    "    else:\n",
    "        print(num, \"is a prime number\")\n"
   ]
  },
  {
   "cell_type": "code",
   "execution_count": 13,
   "id": "2c4aa863-0081-4c59-ae14-163bf2c4190e",
   "metadata": {},
   "outputs": [
    {
     "name": "stdout",
     "output_type": "stream",
     "text": [
      "150\n"
     ]
    }
   ],
   "source": [
    "#Write a program to find the sum of all elements in a list.\n",
    "def sumlist():\n",
    "    l1 = [10, 20, 30, 40, 50]\n",
    "    res = sum(l1)\n",
    "    print(res)\n",
    "sumlist()"
   ]
  },
  {
   "cell_type": "code",
   "execution_count": 14,
   "id": "1e7724fa-e65e-4e39-9918-1299cc19a6ed",
   "metadata": {},
   "outputs": [
    {
     "name": "stdout",
     "output_type": "stream",
     "text": [
      "1\n",
      "2\n",
      "3\n",
      "4\n",
      "6\n",
      "7\n"
     ]
    }
   ],
   "source": [
    "#Write a program using loop that uses both break and continue.\n",
    "for i in range(1,11):\n",
    "    if i==5:\n",
    "        continue\n",
    "    if i==8:\n",
    "        break\n",
    "    print(i)"
   ]
  },
  {
   "cell_type": "code",
   "execution_count": 16,
   "id": "6cb82e5e-203f-471c-a6c5-1d73d61dc07b",
   "metadata": {},
   "outputs": [
    {
     "name": "stdout",
     "output_type": "stream",
     "text": [
      "211\n"
     ]
    }
   ],
   "source": [
    "#Write a program to reverse a number.\n",
    "def reverse():\n",
    "    n = 112\n",
    "    rev = 0\n",
    "    while(n > 0):\n",
    "        a = n % 10\n",
    "        rev = rev * 10 + a\n",
    "        n = n // 10\n",
    "    print(rev)\n",
    "reverse()"
   ]
  },
  {
   "cell_type": "code",
   "execution_count": null,
   "id": "a848a183-85fc-44fc-8837-c9650629a4c1",
   "metadata": {},
   "outputs": [],
   "source": [
    "#Write a function to return the largest element in a list.\n",
    "a = [10, 24, 76, 23, 12]\n",
    "largest = a[0]\n",
    "for val in a:\n",
    "    if val > largest:\n",
    "         largest = val\n",
    "print(largest)"
   ]
  },
  {
   "cell_type": "code",
   "execution_count": null,
   "id": "a8096433-d33f-499d-9f34-b4239c1f503e",
   "metadata": {},
   "outputs": [],
   "source": []
  },
  {
   "cell_type": "code",
   "execution_count": null,
   "id": "0e04b2c0-30aa-4a3d-88b4-bff3386f9323",
   "metadata": {},
   "outputs": [],
   "source": []
  },
  {
   "cell_type": "code",
   "execution_count": null,
   "id": "fc928724-ec6c-4057-a743-f1a94511abac",
   "metadata": {},
   "outputs": [],
   "source": []
  },
  {
   "cell_type": "code",
   "execution_count": null,
   "id": "3a2a100f-7178-4daa-9eba-b68357a4bfa8",
   "metadata": {},
   "outputs": [],
   "source": []
  },
  {
   "cell_type": "code",
   "execution_count": null,
   "id": "7c8c20f4-f7b0-47ea-a196-3e14fad319dd",
   "metadata": {},
   "outputs": [],
   "source": []
  }
 ],
 "metadata": {
  "kernelspec": {
   "display_name": "Python 3 (ipykernel)",
   "language": "python",
   "name": "python3"
  },
  "language_info": {
   "codemirror_mode": {
    "name": "ipython",
    "version": 3
   },
   "file_extension": ".py",
   "mimetype": "text/x-python",
   "name": "python",
   "nbconvert_exporter": "python",
   "pygments_lexer": "ipython3",
   "version": "3.13.5"
  }
 },
 "nbformat": 4,
 "nbformat_minor": 5
}
