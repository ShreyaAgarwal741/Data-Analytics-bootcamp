{
 "cells": [
  {
   "cell_type": "code",
   "execution_count": null,
   "id": "fc64faf0-233c-43e4-87b8-cd109261cf47",
   "metadata": {},
   "outputs": [],
   "source": [
    "#pandas:panal data \n",
    "#data manapulation\n",
    "#1. SERIES\n",
    "#2. DATA FRAME"
   ]
  },
  {
   "cell_type": "code",
   "execution_count": 2,
   "id": "a39f79cd-26ef-43ac-ac55-6f790422ddb8",
   "metadata": {},
   "outputs": [],
   "source": [
    "import pandas as pd"
   ]
  },
  {
   "cell_type": "code",
   "execution_count": 5,
   "id": "202e9225-fa47-414f-af4b-a7780d52b038",
   "metadata": {},
   "outputs": [
    {
     "name": "stdout",
     "output_type": "stream",
     "text": [
      "   name  Age  Mark\n",
      "0  Diya   21    88\n",
      "1  Riya   29    92\n",
      "2  Siya   27    79\n"
     ]
    }
   ],
   "source": [
    "data={\n",
    "    'name':['Diya','Riya','Siya'],\n",
    "    'Age':[21,29,27],\n",
    "    'Mark':[88,92,79]\n",
    "}\n",
    "df=pd.DataFrame(data)\n",
    "print(df)"
   ]
  },
  {
   "cell_type": "code",
   "execution_count": 7,
   "id": "37005f75-6bba-43b1-9eec-bab2ddcf8b8d",
   "metadata": {},
   "outputs": [
    {
     "name": "stdout",
     "output_type": "stream",
     "text": [
      "   name  Age  Mark\n",
      "0  Diya   21    88\n",
      "1  Riya   29    92\n",
      "2  Siya   27    79\n",
      "   name  Age  Mark\n",
      "0  Diya   21    88\n",
      "1  Riya   29    92\n",
      "2  Siya   27    79\n",
      "(3, 3)\n",
      "Index(['name', 'Age', 'Mark'], dtype='object')\n",
      "<class 'pandas.core.frame.DataFrame'>\n",
      "RangeIndex: 3 entries, 0 to 2\n",
      "Data columns (total 3 columns):\n",
      " #   Column  Non-Null Count  Dtype \n",
      "---  ------  --------------  ----- \n",
      " 0   name    3 non-null      object\n",
      " 1   Age     3 non-null      int64 \n",
      " 2   Mark    3 non-null      int64 \n",
      "dtypes: int64(2), object(1)\n",
      "memory usage: 204.0+ bytes\n",
      "None\n",
      "             Age       Mark\n",
      "count   3.000000   3.000000\n",
      "mean   25.666667  86.333333\n",
      "std     4.163332   6.658328\n",
      "min    21.000000  79.000000\n",
      "25%    24.000000  83.500000\n",
      "50%    27.000000  88.000000\n",
      "75%    28.000000  90.000000\n",
      "max    29.000000  92.000000\n"
     ]
    }
   ],
   "source": [
    "print(df.head())\n",
    "print(df.tail())\n",
    "print(df.shape)\n",
    "print(df.columns)\n",
    "print(df.info())\n",
    "print(df.describe())"
   ]
  },
  {
   "cell_type": "code",
   "execution_count": 17,
   "id": "eaf17e8d-eed2-45f9-a444-ac9b7143f79d",
   "metadata": {},
   "outputs": [
    {
     "name": "stdout",
     "output_type": "stream",
     "text": [
      "   name  course  Marks grade\n",
      "0  Diya     BCA     88     A\n",
      "1  Riya     BBA     92     A\n",
      "2  Siya  B.TECH     79     B\n",
      "\n"
     ]
    }
   ],
   "source": [
    "#condition wise filtering\n",
    "data={\n",
    "    'name':['Diya','Riya','Siya'],\n",
    "    'course':['BCA','BBA','B.TECH'],\n",
    "    'Marks':[88,92,79]\n",
    "}\n",
    "print(df)\n",
    "print(\"\")\n",
    "df=pd.DataFrame(data)\n",
    "def get_grade(Marks):\n",
    "    if Marks>=85:\n",
    "        return \"A\"\n",
    "    elif Marks >=65:\n",
    "        return \"B\"\n",
    "    else:\n",
    "        return \"C\"\n",
    "\n",
    "df['grade']=df['Marks'].apply(get_grade)\n",
    "\n"
   ]
  },
  {
   "cell_type": "code",
   "execution_count": 22,
   "id": "d59d4502-25a3-4cb1-a489-ef0192b0a04c",
   "metadata": {},
   "outputs": [],
   "source": [
    "df['grade']=['A','A+','B']\n",
    "df['Marks']=df['Marks']+5"
   ]
  },
  {
   "cell_type": "code",
   "execution_count": null,
   "id": "457adb38-9f3a-4234-b8ac-c40bb132b875",
   "metadata": {},
   "outputs": [],
   "source": []
  },
  {
   "cell_type": "code",
   "execution_count": null,
   "id": "8995c73e-f164-4713-a251-91ea241fc70c",
   "metadata": {},
   "outputs": [],
   "source": []
  },
  {
   "cell_type": "code",
   "execution_count": null,
   "id": "c49e83e6-7101-4183-b061-55cd38acee8f",
   "metadata": {},
   "outputs": [],
   "source": []
  },
  {
   "cell_type": "code",
   "execution_count": null,
   "id": "04a2fa6b-e90a-41a0-b274-251d401f87b3",
   "metadata": {},
   "outputs": [],
   "source": []
  },
  {
   "cell_type": "code",
   "execution_count": null,
   "id": "32879a7a-afea-4c69-a5a9-f71cef56e0a0",
   "metadata": {},
   "outputs": [],
   "source": []
  },
  {
   "cell_type": "code",
   "execution_count": null,
   "id": "5a0c2d26-99c7-4340-a215-f7cac526bc59",
   "metadata": {},
   "outputs": [],
   "source": []
  },
  {
   "cell_type": "code",
   "execution_count": null,
   "id": "0ee2438a-0cfc-459e-b6fb-0492993306ed",
   "metadata": {},
   "outputs": [],
   "source": []
  },
  {
   "cell_type": "code",
   "execution_count": null,
   "id": "bb2fc3e4-2e05-46f3-9494-97c289ccabfc",
   "metadata": {},
   "outputs": [],
   "source": []
  },
  {
   "cell_type": "code",
   "execution_count": null,
   "id": "1adece0b-2eca-4c13-97cf-80ca6640de2a",
   "metadata": {},
   "outputs": [],
   "source": []
  },
  {
   "cell_type": "code",
   "execution_count": null,
   "id": "6dc98413-1d82-43fa-898f-a64dabf115e4",
   "metadata": {},
   "outputs": [],
   "source": []
  },
  {
   "cell_type": "code",
   "execution_count": null,
   "id": "7a3f4d1c-36c0-4608-899d-08f00a7b1d7f",
   "metadata": {},
   "outputs": [],
   "source": []
  },
  {
   "cell_type": "code",
   "execution_count": null,
   "id": "66f810c4-4915-4fcb-a85a-7b31c1788d2e",
   "metadata": {},
   "outputs": [],
   "source": []
  },
  {
   "cell_type": "code",
   "execution_count": null,
   "id": "f556cbbb-d2f5-4e03-b768-545e0e4be44d",
   "metadata": {},
   "outputs": [],
   "source": []
  },
  {
   "cell_type": "code",
   "execution_count": null,
   "id": "038d57df-eb38-4efc-9970-196e4161ef69",
   "metadata": {},
   "outputs": [],
   "source": []
  },
  {
   "cell_type": "code",
   "execution_count": null,
   "id": "4b6ba8fc-9ddc-409a-8ec5-d920e40736c8",
   "metadata": {},
   "outputs": [],
   "source": []
  },
  {
   "cell_type": "code",
   "execution_count": null,
   "id": "860797e9-c511-4744-a5f9-85c96762abd4",
   "metadata": {},
   "outputs": [],
   "source": []
  },
  {
   "cell_type": "code",
   "execution_count": null,
   "id": "a6a110f4-0de9-4d83-9c88-09f2decb8ec7",
   "metadata": {},
   "outputs": [],
   "source": []
  },
  {
   "cell_type": "code",
   "execution_count": null,
   "id": "e34bb643-95a6-4445-95c2-46adb510f440",
   "metadata": {},
   "outputs": [],
   "source": []
  },
  {
   "cell_type": "code",
   "execution_count": null,
   "id": "86c64e48-40db-4027-afed-fd493b34e333",
   "metadata": {},
   "outputs": [],
   "source": []
  }
 ],
 "metadata": {
  "kernelspec": {
   "display_name": "Python 3 (ipykernel)",
   "language": "python",
   "name": "python3"
  },
  "language_info": {
   "codemirror_mode": {
    "name": "ipython",
    "version": 3
   },
   "file_extension": ".py",
   "mimetype": "text/x-python",
   "name": "python",
   "nbconvert_exporter": "python",
   "pygments_lexer": "ipython3",
   "version": "3.13.5"
  }
 },
 "nbformat": 4,
 "nbformat_minor": 5
}
