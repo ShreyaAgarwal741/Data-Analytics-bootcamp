{
 "cells": [
  {
   "cell_type": "code",
   "execution_count": 1,
   "id": "fc64faf0-233c-43e4-87b8-cd109261cf47",
   "metadata": {},
   "outputs": [
    {
     "name": "stdout",
     "output_type": "stream",
     "text": [
      "Hello world\n"
     ]
    }
   ],
   "source": [
    "s='hello world'\n",
    "print(s.capitalize())"
   ]
  },
  {
   "cell_type": "code",
   "execution_count": 2,
   "id": "08c4350c-a4f2-4d0f-a3e0-19d514993235",
   "metadata": {},
   "outputs": [
    {
     "name": "stdout",
     "output_type": "stream",
     "text": [
      "HeLLO wORlD\n"
     ]
    }
   ],
   "source": [
    "s='hEllo WorLd'\n",
    "print(s.swapcase())"
   ]
  },
  {
   "cell_type": "code",
   "execution_count": 3,
   "id": "2a1574b5-c366-4650-b515-8cb853220909",
   "metadata": {},
   "outputs": [
    {
     "name": "stdout",
     "output_type": "stream",
     "text": [
      "HELLO WORLD\n"
     ]
    }
   ],
   "source": [
    "print(s.upper())"
   ]
  },
  {
   "cell_type": "code",
   "execution_count": 4,
   "id": "95f502f2-3e58-44d3-90a5-0f6cc3fda57c",
   "metadata": {},
   "outputs": [
    {
     "name": "stdout",
     "output_type": "stream",
     "text": [
      "hello world\n"
     ]
    }
   ],
   "source": [
    "print(s.lower())"
   ]
  },
  {
   "cell_type": "code",
   "execution_count": 5,
   "id": "2569ebb6-28b5-479c-ba2e-d039ce296a42",
   "metadata": {},
   "outputs": [
    {
     "name": "stdout",
     "output_type": "stream",
     "text": [
      "Hello World\n"
     ]
    }
   ],
   "source": [
    "print(s.title())"
   ]
  },
  {
   "cell_type": "code",
   "execution_count": 6,
   "id": "fe0dc9b3-f236-4da5-9fcf-7229c2c00996",
   "metadata": {},
   "outputs": [
    {
     "name": "stdout",
     "output_type": "stream",
     "text": [
      "hello\n",
      "hello    \n",
      "    hello\n"
     ]
    }
   ],
   "source": [
    "s=\"    hello    \"\n",
    "print(s.strip())\n",
    "print(s.lstrip())\n",
    "print(s.rstrip())"
   ]
  },
  {
   "cell_type": "code",
   "execution_count": 8,
   "id": "61ebacea-85fd-4275-9c44-beefaec78c80",
   "metadata": {},
   "outputs": [
    {
     "name": "stdout",
     "output_type": "stream",
     "text": [
      "hello python\n"
     ]
    }
   ],
   "source": [
    "s='hello world'\n",
    "print(s.replace(\"world\",\"python\"))"
   ]
  },
  {
   "cell_type": "code",
   "execution_count": 10,
   "id": "0be513bd-8c83-40e0-9a5e-39593cd3b8c0",
   "metadata": {},
   "outputs": [
    {
     "name": "stdout",
     "output_type": "stream",
     "text": [
      "['hello world']\n"
     ]
    }
   ],
   "source": [
    "print(s.split(\",\"))"
   ]
  },
  {
   "cell_type": "code",
   "execution_count": 11,
   "id": "4e4d5793-fc71-4a2b-b1ac-5a181fab2c72",
   "metadata": {},
   "outputs": [
    {
     "name": "stdout",
     "output_type": "stream",
     "text": [
      "6\n"
     ]
    }
   ],
   "source": [
    "print(s.find(\"world\"))"
   ]
  },
  {
   "cell_type": "code",
   "execution_count": 12,
   "id": "454e4caf-e45a-457d-a37b-fb6e27830617",
   "metadata": {},
   "outputs": [
    {
     "name": "stdout",
     "output_type": "stream",
     "text": [
      "1\n"
     ]
    }
   ],
   "source": [
    "print(s.index(\"e\"))"
   ]
  },
  {
   "cell_type": "code",
   "execution_count": 13,
   "id": "58e73dda-a8ad-4ece-b39e-a67f655e1748",
   "metadata": {},
   "outputs": [
    {
     "name": "stdout",
     "output_type": "stream",
     "text": [
      "3\n"
     ]
    }
   ],
   "source": [
    "print(s.count(\"l\"))"
   ]
  },
  {
   "cell_type": "code",
   "execution_count": 14,
   "id": "ca7722bb-c1a1-4971-8a12-5aa7efb0056d",
   "metadata": {},
   "outputs": [
    {
     "name": "stdout",
     "output_type": "stream",
     "text": [
      "True\n"
     ]
    }
   ],
   "source": [
    "print(s.startswith(\"h\"))"
   ]
  },
  {
   "cell_type": "code",
   "execution_count": 19,
   "id": "b0298980-5154-476d-b129-46d1f9eeb3e8",
   "metadata": {},
   "outputs": [
    {
     "name": "stdout",
     "output_type": "stream",
     "text": [
      "True\n"
     ]
    }
   ],
   "source": [
    "s=\"helloworld\"\n",
    "print(s.isalpha())"
   ]
  },
  {
   "cell_type": "code",
   "execution_count": 17,
   "id": "630a20b4-d7e5-4b14-ab3d-5d132ee68b1a",
   "metadata": {},
   "outputs": [
    {
     "name": "stdout",
     "output_type": "stream",
     "text": [
      "False\n"
     ]
    }
   ],
   "source": [
    "s='hello world'\n",
    "print(s.isdigit())"
   ]
  },
  {
   "cell_type": "code",
   "execution_count": 21,
   "id": "e92b2989-0519-41dd-bcad-67b19f99b447",
   "metadata": {},
   "outputs": [
    {
     "name": "stdout",
     "output_type": "stream",
     "text": [
      "True\n"
     ]
    }
   ],
   "source": [
    "s=\"hello123\"\n",
    "print(s.isalnum())"
   ]
  },
  {
   "cell_type": "code",
   "execution_count": 25,
   "id": "69d48146-d140-4a47-8006-fa7e9f6eeb30",
   "metadata": {},
   "outputs": [
    {
     "name": "stdout",
     "output_type": "stream",
     "text": [
      "my name is shreya and i am 20 years old\n"
     ]
    }
   ],
   "source": [
    "name=\"shreya\"\n",
    "age=20\n",
    "print(\"my name is {} and i am {} years old\".format(name,age))"
   ]
  },
  {
   "cell_type": "code",
   "execution_count": 45,
   "id": "2bf9910e-0341-4d67-86e7-8f72400d5147",
   "metadata": {},
   "outputs": [
    {
     "name": "stdin",
     "output_type": "stream",
     "text": [
      "enter your pin 123\n",
      "enter amount to be deposit 12000\n"
     ]
    },
    {
     "name": "stdout",
     "output_type": "stream",
     "text": [
      " Your amount is successfully deposit 12000\n",
      "updated amount 24000\n"
     ]
    },
    {
     "name": "stdin",
     "output_type": "stream",
     "text": [
      "Enter amount to withdraw:  1200\n"
     ]
    },
    {
     "name": "stdout",
     "output_type": "stream",
     "text": [
      "Your withdrawal is successful: 1200\n",
      "Remaining balance: 22800\n"
     ]
    }
   ],
   "source": [
    "#atm function\n",
    "pin=int(input(\"enter your pin\"))\n",
    "m=12000\n",
    "def atm(bal):\n",
    "    def deposit(bal):\n",
    "        amount=int(input(\"enter amount to be deposit\"))\n",
    "        bal+=amount\n",
    "        print(\" Your amount is successfully deposit\",amount)\n",
    "        print(\"updated amount\",bal)\n",
    "        return bal\n",
    "    def withdrawl(bal):\n",
    "        amount = int(input(\"Enter amount to withdraw: \"))\n",
    "        if bal<amount:\n",
    "            print(\"Your request is rejected due to insufficient balance.\")\n",
    "        else:\n",
    "            bal -= amount\n",
    "            print(\"Your withdrawal is successful:\",amount)\n",
    "            print(\"Remaining balance:\",bal)\n",
    "        return bal\n",
    "    bal = deposit(bal)\n",
    "    bal = withdrawl(bal)\n",
    "atm(m)"
   ]
  },
  {
   "cell_type": "code",
   "execution_count": 3,
   "id": "8b5d42d4-c7b0-4c65-b64b-d24da81f93ff",
   "metadata": {},
   "outputs": [],
   "source": [
    "#write\n",
    "f=open(\"myfile.txt\",\"w\")\n",
    "f.write(\"hello \\n\")\n",
    "f.close()"
   ]
  },
  {
   "cell_type": "code",
   "execution_count": 1,
   "id": "dca953cf-3cf7-41e4-8d12-a670fbd90e8e",
   "metadata": {},
   "outputs": [],
   "source": [
    "#append\n",
    "f=open(\"myfile.txt\",\"a\")\n",
    "f.write(\"hello world \\n\")\n",
    "f.close()"
   ]
  },
  {
   "cell_type": "code",
   "execution_count": 2,
   "id": "8cf8d257-bed9-45bb-bdf3-acc3d98cac6f",
   "metadata": {},
   "outputs": [],
   "source": [
    "#read\n",
    "f=open(\"myfile.txt\",\"r\")\n",
    "content=f.read()\n",
    "f.close()"
   ]
  },
  {
   "cell_type": "code",
   "execution_count": 5,
   "id": "87e3217a-fea2-4f83-9db5-26fec8c53f6b",
   "metadata": {},
   "outputs": [
    {
     "name": "stdout",
     "output_type": "stream",
     "text": [
      "file delete\n"
     ]
    }
   ],
   "source": [
    "#delete\n",
    "import os\n",
    "if os.path.exists(\"data.txt\"):\n",
    "    os.remove(\"data.txt\")\n",
    "    print(\"file delete\")\n",
    "else:\n",
    "    print(\"doesn't exist\")"
   ]
  },
  {
   "cell_type": "code",
   "execution_count": 4,
   "id": "eb58fbae-0fa5-4d13-93c3-1c10e85761ed",
   "metadata": {},
   "outputs": [],
   "source": [
    "#create a file\n",
    "f=open(\"data.txt\",\"x\")\n",
    "f.write(\"hello world \\n\")\n",
    "f.close()"
   ]
  },
  {
   "cell_type": "code",
   "execution_count": 5,
   "id": "5d90856a-7387-4149-b904-f8eb232092c4",
   "metadata": {},
   "outputs": [
    {
     "name": "stdin",
     "output_type": "stream",
     "text": [
      "Enter amount to deposit:  12000\n",
      "Do you want to withdraw amount? Enter 'Y' for Yes or 'N' for No:  Y\n",
      "Enter amount to withdraw:  100\n"
     ]
    },
    {
     "name": "stdout",
     "output_type": "stream",
     "text": [
      "Your withdrawn amount is less than 500 !!!\n"
     ]
    }
   ],
   "source": [
    "#oops\n",
    "class Bank:\n",
    "    def addAmount(self):\n",
    "        deposit = int(input(\"Enter amount to deposit: \"))\n",
    "        choice = input(\"Do you want to withdraw amount? Enter 'Y' for Yes or 'N' for No: \").strip().upper()\n",
    "        \n",
    "        if choice == 'Y':\n",
    "            withdrawn = int(input(\"Enter amount to withdraw: \"))\n",
    "            self.AIM(deposit, withdrawn)\n",
    "        else:\n",
    "            print(\"Exited !!!\")\n",
    "            return\n",
    "\n",
    "    def AIM(self, deposit, withdrawn):\n",
    "        if withdrawn >= 500:\n",
    "            if withdrawn <= deposit:\n",
    "                amount = deposit - withdrawn\n",
    "                print(\"Your remaining balance is:\", amount)\n",
    "                print(\"Successfully withdrawn amount:\", withdrawn)\n",
    "            else:\n",
    "                print(\"Insufficient balance !!!\")\n",
    "        else:\n",
    "            print(\"Your withdrawn amount is less than 500 !!!\")\n",
    "\n",
    "\n",
    "bank = Bank()\n",
    "bank.addAmount()"
   ]
  },
  {
   "cell_type": "code",
   "execution_count": null,
   "id": "6156b94e-02e4-4cff-93c3-f96d580685bb",
   "metadata": {},
   "outputs": [],
   "source": []
  },
  {
   "cell_type": "code",
   "execution_count": null,
   "id": "8db091c4-9080-490e-bdb8-42ebb126d0c7",
   "metadata": {},
   "outputs": [],
   "source": []
  },
  {
   "cell_type": "code",
   "execution_count": null,
   "id": "224662b3-e9de-4422-b112-231f751b1ae2",
   "metadata": {},
   "outputs": [],
   "source": []
  },
  {
   "cell_type": "code",
   "execution_count": null,
   "id": "c72b4c0f-cc16-49c9-999b-b00992f70942",
   "metadata": {},
   "outputs": [],
   "source": []
  },
  {
   "cell_type": "code",
   "execution_count": null,
   "id": "fad9b28f-b7e4-4b14-a6a2-182f1fb8cc0c",
   "metadata": {},
   "outputs": [],
   "source": []
  },
  {
   "cell_type": "code",
   "execution_count": null,
   "id": "a42d7d94-33e6-4398-b127-72f240628fb2",
   "metadata": {},
   "outputs": [],
   "source": []
  },
  {
   "cell_type": "code",
   "execution_count": null,
   "id": "39a00b97-0299-4f11-855f-002be2cd90ac",
   "metadata": {},
   "outputs": [],
   "source": []
  },
  {
   "cell_type": "code",
   "execution_count": null,
   "id": "6a6f0d94-e4ab-4a3b-b364-f56e4105bec7",
   "metadata": {},
   "outputs": [],
   "source": []
  }
 ],
 "metadata": {
  "kernelspec": {
   "display_name": "Python 3 (ipykernel)",
   "language": "python",
   "name": "python3"
  },
  "language_info": {
   "codemirror_mode": {
    "name": "ipython",
    "version": 3
   },
   "file_extension": ".py",
   "mimetype": "text/x-python",
   "name": "python",
   "nbconvert_exporter": "python",
   "pygments_lexer": "ipython3",
   "version": "3.13.5"
  }
 },
 "nbformat": 4,
 "nbformat_minor": 5
}
